{
 "cells": [
  {
   "cell_type": "code",
   "execution_count": 35,
   "metadata": {
    "collapsed": true
   },
   "outputs": [],
   "source": [
    "import pandas as pd\n",
    "import transformers\n",
    "import torch\n",
    "import torch.nn as nn\n",
    "import shutil\n",
    "import sys"
   ]
  },
  {
   "cell_type": "code",
   "execution_count": 36,
   "outputs": [],
   "source": [
    "df1 = pd.read_pickle(r\"D:\\bollaye\\ConWea\\data\\paper_comments\\df.pkl\")"
   ],
   "metadata": {
    "collapsed": false,
    "pycharm": {
     "name": "#%%\n"
    }
   }
  },
  {
   "cell_type": "code",
   "execution_count": 37,
   "outputs": [
    {
     "data": {
      "text/plain": "                                               sentence label\n0     情感 识别 是 人机交互 中 备受 关注 的 研究 领域 之一 ， 论文 以 基于 视 听觉...    良好\n1     论文 针对 快速 启动 两 自由度 陀螺仪 ， 以 其 本体 设计 ， 野值 漂移 等 问题...    良好\n2     该 论文 针对 冲压 发动机 燃烧室 进气 畸变 的 问题 开展 畸变 模拟 和 抑制 方法...    一般\n3     劳动合同 法律 制度 是 劳动 法律 制度 的 重要 组成部分 ， 劳动合同 是 调整 劳资...    良好\n4     1 、 论文 选题 具有 比较 强 的 社会 现实意义 ， 并且 选题 是 符合 公共 管理...    良好\n...                                                 ...   ...\n1069  多 自主 水下 航行 器 协同 作业 日渐 成为 热点 研究 领域 ， 本 论文 针对 其中...    良好\n1070  本文 针对 农村 公共 产品 供给 失衡 问题 ， 从 机制 构建 和 创新 角度 入手 ，...    一般\n1071  论文 选题 迎合 当前 大 数据分析 的 主流 趋势 。 论文 工作 工作量 饱和 ， 系统...    良好\n1072  本 论文 以 红外 / 雷达 兼容 隐身 材料 为 研究 背景 ， 采用 分层 涂覆 方法 ...    良好\n1073  选择 某型 压气机 叶栅为 研究 对象 ， 针对 上游 尾迹 对 压气机 叶表 附面层 干涉...    良好\n\n[1074 rows x 2 columns]",
      "text/html": "<div>\n<style scoped>\n    .dataframe tbody tr th:only-of-type {\n        vertical-align: middle;\n    }\n\n    .dataframe tbody tr th {\n        vertical-align: top;\n    }\n\n    .dataframe thead th {\n        text-align: right;\n    }\n</style>\n<table border=\"1\" class=\"dataframe\">\n  <thead>\n    <tr style=\"text-align: right;\">\n      <th></th>\n      <th>sentence</th>\n      <th>label</th>\n    </tr>\n  </thead>\n  <tbody>\n    <tr>\n      <th>0</th>\n      <td>情感 识别 是 人机交互 中 备受 关注 的 研究 领域 之一 ， 论文 以 基于 视 听觉...</td>\n      <td>良好</td>\n    </tr>\n    <tr>\n      <th>1</th>\n      <td>论文 针对 快速 启动 两 自由度 陀螺仪 ， 以 其 本体 设计 ， 野值 漂移 等 问题...</td>\n      <td>良好</td>\n    </tr>\n    <tr>\n      <th>2</th>\n      <td>该 论文 针对 冲压 发动机 燃烧室 进气 畸变 的 问题 开展 畸变 模拟 和 抑制 方法...</td>\n      <td>一般</td>\n    </tr>\n    <tr>\n      <th>3</th>\n      <td>劳动合同 法律 制度 是 劳动 法律 制度 的 重要 组成部分 ， 劳动合同 是 调整 劳资...</td>\n      <td>良好</td>\n    </tr>\n    <tr>\n      <th>4</th>\n      <td>1 、 论文 选题 具有 比较 强 的 社会 现实意义 ， 并且 选题 是 符合 公共 管理...</td>\n      <td>良好</td>\n    </tr>\n    <tr>\n      <th>...</th>\n      <td>...</td>\n      <td>...</td>\n    </tr>\n    <tr>\n      <th>1069</th>\n      <td>多 自主 水下 航行 器 协同 作业 日渐 成为 热点 研究 领域 ， 本 论文 针对 其中...</td>\n      <td>良好</td>\n    </tr>\n    <tr>\n      <th>1070</th>\n      <td>本文 针对 农村 公共 产品 供给 失衡 问题 ， 从 机制 构建 和 创新 角度 入手 ，...</td>\n      <td>一般</td>\n    </tr>\n    <tr>\n      <th>1071</th>\n      <td>论文 选题 迎合 当前 大 数据分析 的 主流 趋势 。 论文 工作 工作量 饱和 ， 系统...</td>\n      <td>良好</td>\n    </tr>\n    <tr>\n      <th>1072</th>\n      <td>本 论文 以 红外 / 雷达 兼容 隐身 材料 为 研究 背景 ， 采用 分层 涂覆 方法 ...</td>\n      <td>良好</td>\n    </tr>\n    <tr>\n      <th>1073</th>\n      <td>选择 某型 压气机 叶栅为 研究 对象 ， 针对 上游 尾迹 对 压气机 叶表 附面层 干涉...</td>\n      <td>良好</td>\n    </tr>\n  </tbody>\n</table>\n<p>1074 rows × 2 columns</p>\n</div>"
     },
     "execution_count": 37,
     "metadata": {},
     "output_type": "execute_result"
    }
   ],
   "source": [
    "df1"
   ],
   "metadata": {
    "collapsed": false,
    "pycharm": {
     "name": "#%%\n"
    }
   }
  },
  {
   "cell_type": "code",
   "execution_count": 38,
   "outputs": [],
   "source": [
    "import numpy as np"
   ],
   "metadata": {
    "collapsed": false,
    "pycharm": {
     "name": "#%%\n"
    }
   }
  },
  {
   "cell_type": "code",
   "execution_count": 39,
   "outputs": [],
   "source": [
    "dfs = np.array_split(df1,3)"
   ],
   "metadata": {
    "collapsed": false,
    "pycharm": {
     "name": "#%%\n"
    }
   }
  },
  {
   "cell_type": "code",
   "execution_count": 40,
   "outputs": [],
   "source": [
    "train_df1 = dfs[0]\n",
    "train_df2 = dfs[1]\n",
    "test_df= dfs[2]"
   ],
   "metadata": {
    "collapsed": false,
    "pycharm": {
     "name": "#%%\n"
    }
   }
  },
  {
   "cell_type": "code",
   "execution_count": 41,
   "outputs": [],
   "source": [
    "train_df = pd.concat([train_df1,train_df2],ignore_index=True)"
   ],
   "metadata": {
    "collapsed": false,
    "pycharm": {
     "name": "#%%\n"
    }
   }
  },
  {
   "cell_type": "code",
   "execution_count": 42,
   "outputs": [
    {
     "data": {
      "text/plain": "array(['良好', '一般', '较差', '优秀', '很差'], dtype=object)"
     },
     "execution_count": 42,
     "metadata": {},
     "output_type": "execute_result"
    }
   ],
   "source": [
    "train_df['label'].unique()"
   ],
   "metadata": {
    "collapsed": false,
    "pycharm": {
     "name": "#%%\n"
    }
   }
  },
  {
   "cell_type": "code",
   "execution_count": 43,
   "outputs": [],
   "source": [
    "train_df['良好']=train_df.apply(lambda x: 1 if x['label']=='良好' else 0 ,axis=1)\n",
    "train_df['一般']=train_df.apply(lambda x: 1 if x['label']=='一般' else 0 ,axis=1)\n",
    "train_df['较差']=train_df.apply(lambda x: 1 if x['label']=='较差' else 0 ,axis=1)\n",
    "train_df['优秀']=train_df.apply(lambda x: 1 if x['label']=='优秀' else 0 ,axis=1)\n",
    "train_df['很差']=train_df.apply(lambda x: 1 if x['label']=='很差' else 0 ,axis=1)"
   ],
   "metadata": {
    "collapsed": false,
    "pycharm": {
     "name": "#%%\n"
    }
   }
  },
  {
   "cell_type": "code",
   "execution_count": 44,
   "outputs": [
    {
     "data": {
      "text/plain": "                                              sentence label  良好  一般  较差  优秀  \\\n0    情感 识别 是 人机交互 中 备受 关注 的 研究 领域 之一 ， 论文 以 基于 视 听觉...    良好   1   0   0   0   \n1    论文 针对 快速 启动 两 自由度 陀螺仪 ， 以 其 本体 设计 ， 野值 漂移 等 问题...    良好   1   0   0   0   \n2    该 论文 针对 冲压 发动机 燃烧室 进气 畸变 的 问题 开展 畸变 模拟 和 抑制 方法...    一般   0   1   0   0   \n3    劳动合同 法律 制度 是 劳动 法律 制度 的 重要 组成部分 ， 劳动合同 是 调整 劳资...    良好   1   0   0   0   \n4    1 、 论文 选题 具有 比较 强 的 社会 现实意义 ， 并且 选题 是 符合 公共 管理...    良好   1   0   0   0   \n..                                                 ...   ...  ..  ..  ..  ..   \n711  论文 以 涡轮 基 组合 循环 （ TBCC ） 发动机 为 应用 背景 ， 开展 了 射流...    良好   1   0   0   0   \n712  由于 高职 院校 学生 规模 增加 ， 实行 公寓化 的 学生宿舍 管理 面临 许多 问题 ...    一般   0   1   0   0   \n713  对 城镇化 背景 下 ， 政府 在 推进 小城镇 发展 中 的 职能 定位问题 进行 研究 ...    一般   0   1   0   0   \n714  本文 主要 对 施工 企 信息系统 这一 课题 进行 分析 ， 基于 云 计算 等 技术 方...    一般   0   1   0   0   \n715     论文 结合实际 ， 研发 了 郑州 航院 自动 排课 系统 ， 论文 选题 有 实际意义 。    一般   0   1   0   0   \n\n     很差  \n0     0  \n1     0  \n2     0  \n3     0  \n4     0  \n..   ..  \n711   0  \n712   0  \n713   0  \n714   0  \n715   0  \n\n[716 rows x 7 columns]",
      "text/html": "<div>\n<style scoped>\n    .dataframe tbody tr th:only-of-type {\n        vertical-align: middle;\n    }\n\n    .dataframe tbody tr th {\n        vertical-align: top;\n    }\n\n    .dataframe thead th {\n        text-align: right;\n    }\n</style>\n<table border=\"1\" class=\"dataframe\">\n  <thead>\n    <tr style=\"text-align: right;\">\n      <th></th>\n      <th>sentence</th>\n      <th>label</th>\n      <th>良好</th>\n      <th>一般</th>\n      <th>较差</th>\n      <th>优秀</th>\n      <th>很差</th>\n    </tr>\n  </thead>\n  <tbody>\n    <tr>\n      <th>0</th>\n      <td>情感 识别 是 人机交互 中 备受 关注 的 研究 领域 之一 ， 论文 以 基于 视 听觉...</td>\n      <td>良好</td>\n      <td>1</td>\n      <td>0</td>\n      <td>0</td>\n      <td>0</td>\n      <td>0</td>\n    </tr>\n    <tr>\n      <th>1</th>\n      <td>论文 针对 快速 启动 两 自由度 陀螺仪 ， 以 其 本体 设计 ， 野值 漂移 等 问题...</td>\n      <td>良好</td>\n      <td>1</td>\n      <td>0</td>\n      <td>0</td>\n      <td>0</td>\n      <td>0</td>\n    </tr>\n    <tr>\n      <th>2</th>\n      <td>该 论文 针对 冲压 发动机 燃烧室 进气 畸变 的 问题 开展 畸变 模拟 和 抑制 方法...</td>\n      <td>一般</td>\n      <td>0</td>\n      <td>1</td>\n      <td>0</td>\n      <td>0</td>\n      <td>0</td>\n    </tr>\n    <tr>\n      <th>3</th>\n      <td>劳动合同 法律 制度 是 劳动 法律 制度 的 重要 组成部分 ， 劳动合同 是 调整 劳资...</td>\n      <td>良好</td>\n      <td>1</td>\n      <td>0</td>\n      <td>0</td>\n      <td>0</td>\n      <td>0</td>\n    </tr>\n    <tr>\n      <th>4</th>\n      <td>1 、 论文 选题 具有 比较 强 的 社会 现实意义 ， 并且 选题 是 符合 公共 管理...</td>\n      <td>良好</td>\n      <td>1</td>\n      <td>0</td>\n      <td>0</td>\n      <td>0</td>\n      <td>0</td>\n    </tr>\n    <tr>\n      <th>...</th>\n      <td>...</td>\n      <td>...</td>\n      <td>...</td>\n      <td>...</td>\n      <td>...</td>\n      <td>...</td>\n      <td>...</td>\n    </tr>\n    <tr>\n      <th>711</th>\n      <td>论文 以 涡轮 基 组合 循环 （ TBCC ） 发动机 为 应用 背景 ， 开展 了 射流...</td>\n      <td>良好</td>\n      <td>1</td>\n      <td>0</td>\n      <td>0</td>\n      <td>0</td>\n      <td>0</td>\n    </tr>\n    <tr>\n      <th>712</th>\n      <td>由于 高职 院校 学生 规模 增加 ， 实行 公寓化 的 学生宿舍 管理 面临 许多 问题 ...</td>\n      <td>一般</td>\n      <td>0</td>\n      <td>1</td>\n      <td>0</td>\n      <td>0</td>\n      <td>0</td>\n    </tr>\n    <tr>\n      <th>713</th>\n      <td>对 城镇化 背景 下 ， 政府 在 推进 小城镇 发展 中 的 职能 定位问题 进行 研究 ...</td>\n      <td>一般</td>\n      <td>0</td>\n      <td>1</td>\n      <td>0</td>\n      <td>0</td>\n      <td>0</td>\n    </tr>\n    <tr>\n      <th>714</th>\n      <td>本文 主要 对 施工 企 信息系统 这一 课题 进行 分析 ， 基于 云 计算 等 技术 方...</td>\n      <td>一般</td>\n      <td>0</td>\n      <td>1</td>\n      <td>0</td>\n      <td>0</td>\n      <td>0</td>\n    </tr>\n    <tr>\n      <th>715</th>\n      <td>论文 结合实际 ， 研发 了 郑州 航院 自动 排课 系统 ， 论文 选题 有 实际意义 。</td>\n      <td>一般</td>\n      <td>0</td>\n      <td>1</td>\n      <td>0</td>\n      <td>0</td>\n      <td>0</td>\n    </tr>\n  </tbody>\n</table>\n<p>716 rows × 7 columns</p>\n</div>"
     },
     "execution_count": 44,
     "metadata": {},
     "output_type": "execute_result"
    }
   ],
   "source": [
    "train_df"
   ],
   "metadata": {
    "collapsed": false,
    "pycharm": {
     "name": "#%%\n"
    }
   }
  },
  {
   "cell_type": "code",
   "execution_count": 45,
   "outputs": [],
   "source": [
    "test_df['良好']=test_df.apply(lambda x: 1 if x['label']=='良好' else 0 ,axis=1)\n",
    "test_df['一般']=test_df.apply(lambda x: 1 if x['label']=='一般' else 0 ,axis=1)\n",
    "test_df['较差']=test_df.apply(lambda x: 1 if x['label']=='较差' else 0 ,axis=1)\n",
    "test_df['优秀']=test_df.apply(lambda x: 1 if x['label']=='优秀' else 0 ,axis=1)\n",
    "test_df['很差']=test_df.apply(lambda x: 1 if x['label']=='很差' else 0 ,axis=1)"
   ],
   "metadata": {
    "collapsed": false,
    "pycharm": {
     "name": "#%%\n"
    }
   }
  },
  {
   "cell_type": "code",
   "execution_count": 46,
   "outputs": [
    {
     "data": {
      "text/plain": "                                               sentence label  良好  一般  较差  优秀  \\\n716   本文 选题 于 工程 实践 中 发动机 常见 的 起动 问题 ， 特别 是 难以 定量 评估...    优秀   0   0   0   1   \n717   双组元 电动 气 阀门 在 某 火箭 发动机 控制 中 起到 至关重要 的 作用 ， 欧美国...    良好   1   0   0   0   \n718   该 同学 的 论文 选题 有 一定 的 现实 针对性 ， 论文 观点 比较 明确 ， 资料 ...    一般   0   1   0   0   \n719   近些年来 随着 电子科技 和 设备 的 发展 ， 产生 了 电磁波 干扰 和 辐射 等 污染...    良好   1   0   0   0   \n720   论文 首先 分析 了 APC 产生 原因 ， 建立 了 非线性 人机 闭环 系统 模型 ， ...    良好   1   0   0   0   \n...                                                 ...   ...  ..  ..  ..  ..   \n1069  多 自主 水下 航行 器 协同 作业 日渐 成为 热点 研究 领域 ， 本 论文 针对 其中...    良好   1   0   0   0   \n1070  本文 针对 农村 公共 产品 供给 失衡 问题 ， 从 机制 构建 和 创新 角度 入手 ，...    一般   0   1   0   0   \n1071  论文 选题 迎合 当前 大 数据分析 的 主流 趋势 。 论文 工作 工作量 饱和 ， 系统...    良好   1   0   0   0   \n1072  本 论文 以 红外 / 雷达 兼容 隐身 材料 为 研究 背景 ， 采用 分层 涂覆 方法 ...    良好   1   0   0   0   \n1073  选择 某型 压气机 叶栅为 研究 对象 ， 针对 上游 尾迹 对 压气机 叶表 附面层 干涉...    良好   1   0   0   0   \n\n      很差  \n716    0  \n717    0  \n718    0  \n719    0  \n720    0  \n...   ..  \n1069   0  \n1070   0  \n1071   0  \n1072   0  \n1073   0  \n\n[358 rows x 7 columns]",
      "text/html": "<div>\n<style scoped>\n    .dataframe tbody tr th:only-of-type {\n        vertical-align: middle;\n    }\n\n    .dataframe tbody tr th {\n        vertical-align: top;\n    }\n\n    .dataframe thead th {\n        text-align: right;\n    }\n</style>\n<table border=\"1\" class=\"dataframe\">\n  <thead>\n    <tr style=\"text-align: right;\">\n      <th></th>\n      <th>sentence</th>\n      <th>label</th>\n      <th>良好</th>\n      <th>一般</th>\n      <th>较差</th>\n      <th>优秀</th>\n      <th>很差</th>\n    </tr>\n  </thead>\n  <tbody>\n    <tr>\n      <th>716</th>\n      <td>本文 选题 于 工程 实践 中 发动机 常见 的 起动 问题 ， 特别 是 难以 定量 评估...</td>\n      <td>优秀</td>\n      <td>0</td>\n      <td>0</td>\n      <td>0</td>\n      <td>1</td>\n      <td>0</td>\n    </tr>\n    <tr>\n      <th>717</th>\n      <td>双组元 电动 气 阀门 在 某 火箭 发动机 控制 中 起到 至关重要 的 作用 ， 欧美国...</td>\n      <td>良好</td>\n      <td>1</td>\n      <td>0</td>\n      <td>0</td>\n      <td>0</td>\n      <td>0</td>\n    </tr>\n    <tr>\n      <th>718</th>\n      <td>该 同学 的 论文 选题 有 一定 的 现实 针对性 ， 论文 观点 比较 明确 ， 资料 ...</td>\n      <td>一般</td>\n      <td>0</td>\n      <td>1</td>\n      <td>0</td>\n      <td>0</td>\n      <td>0</td>\n    </tr>\n    <tr>\n      <th>719</th>\n      <td>近些年来 随着 电子科技 和 设备 的 发展 ， 产生 了 电磁波 干扰 和 辐射 等 污染...</td>\n      <td>良好</td>\n      <td>1</td>\n      <td>0</td>\n      <td>0</td>\n      <td>0</td>\n      <td>0</td>\n    </tr>\n    <tr>\n      <th>720</th>\n      <td>论文 首先 分析 了 APC 产生 原因 ， 建立 了 非线性 人机 闭环 系统 模型 ， ...</td>\n      <td>良好</td>\n      <td>1</td>\n      <td>0</td>\n      <td>0</td>\n      <td>0</td>\n      <td>0</td>\n    </tr>\n    <tr>\n      <th>...</th>\n      <td>...</td>\n      <td>...</td>\n      <td>...</td>\n      <td>...</td>\n      <td>...</td>\n      <td>...</td>\n      <td>...</td>\n    </tr>\n    <tr>\n      <th>1069</th>\n      <td>多 自主 水下 航行 器 协同 作业 日渐 成为 热点 研究 领域 ， 本 论文 针对 其中...</td>\n      <td>良好</td>\n      <td>1</td>\n      <td>0</td>\n      <td>0</td>\n      <td>0</td>\n      <td>0</td>\n    </tr>\n    <tr>\n      <th>1070</th>\n      <td>本文 针对 农村 公共 产品 供给 失衡 问题 ， 从 机制 构建 和 创新 角度 入手 ，...</td>\n      <td>一般</td>\n      <td>0</td>\n      <td>1</td>\n      <td>0</td>\n      <td>0</td>\n      <td>0</td>\n    </tr>\n    <tr>\n      <th>1071</th>\n      <td>论文 选题 迎合 当前 大 数据分析 的 主流 趋势 。 论文 工作 工作量 饱和 ， 系统...</td>\n      <td>良好</td>\n      <td>1</td>\n      <td>0</td>\n      <td>0</td>\n      <td>0</td>\n      <td>0</td>\n    </tr>\n    <tr>\n      <th>1072</th>\n      <td>本 论文 以 红外 / 雷达 兼容 隐身 材料 为 研究 背景 ， 采用 分层 涂覆 方法 ...</td>\n      <td>良好</td>\n      <td>1</td>\n      <td>0</td>\n      <td>0</td>\n      <td>0</td>\n      <td>0</td>\n    </tr>\n    <tr>\n      <th>1073</th>\n      <td>选择 某型 压气机 叶栅为 研究 对象 ， 针对 上游 尾迹 对 压气机 叶表 附面层 干涉...</td>\n      <td>良好</td>\n      <td>1</td>\n      <td>0</td>\n      <td>0</td>\n      <td>0</td>\n      <td>0</td>\n    </tr>\n  </tbody>\n</table>\n<p>358 rows × 7 columns</p>\n</div>"
     },
     "execution_count": 46,
     "metadata": {},
     "output_type": "execute_result"
    }
   ],
   "source": [
    "test_df"
   ],
   "metadata": {
    "collapsed": false,
    "pycharm": {
     "name": "#%%\n"
    }
   }
  },
  {
   "cell_type": "code",
   "execution_count": 47,
   "outputs": [],
   "source": [
    "train_df=train_df.drop(['label'],axis=1)"
   ],
   "metadata": {
    "collapsed": false,
    "pycharm": {
     "name": "#%%\n"
    }
   }
  },
  {
   "cell_type": "code",
   "execution_count": 48,
   "outputs": [
    {
     "data": {
      "text/plain": "                                              sentence  良好  一般  较差  优秀  很差\n0    情感 识别 是 人机交互 中 备受 关注 的 研究 领域 之一 ， 论文 以 基于 视 听觉...   1   0   0   0   0\n1    论文 针对 快速 启动 两 自由度 陀螺仪 ， 以 其 本体 设计 ， 野值 漂移 等 问题...   1   0   0   0   0\n2    该 论文 针对 冲压 发动机 燃烧室 进气 畸变 的 问题 开展 畸变 模拟 和 抑制 方法...   0   1   0   0   0\n3    劳动合同 法律 制度 是 劳动 法律 制度 的 重要 组成部分 ， 劳动合同 是 调整 劳资...   1   0   0   0   0\n4    1 、 论文 选题 具有 比较 强 的 社会 现实意义 ， 并且 选题 是 符合 公共 管理...   1   0   0   0   0\n..                                                 ...  ..  ..  ..  ..  ..\n711  论文 以 涡轮 基 组合 循环 （ TBCC ） 发动机 为 应用 背景 ， 开展 了 射流...   1   0   0   0   0\n712  由于 高职 院校 学生 规模 增加 ， 实行 公寓化 的 学生宿舍 管理 面临 许多 问题 ...   0   1   0   0   0\n713  对 城镇化 背景 下 ， 政府 在 推进 小城镇 发展 中 的 职能 定位问题 进行 研究 ...   0   1   0   0   0\n714  本文 主要 对 施工 企 信息系统 这一 课题 进行 分析 ， 基于 云 计算 等 技术 方...   0   1   0   0   0\n715     论文 结合实际 ， 研发 了 郑州 航院 自动 排课 系统 ， 论文 选题 有 实际意义 。   0   1   0   0   0\n\n[716 rows x 6 columns]",
      "text/html": "<div>\n<style scoped>\n    .dataframe tbody tr th:only-of-type {\n        vertical-align: middle;\n    }\n\n    .dataframe tbody tr th {\n        vertical-align: top;\n    }\n\n    .dataframe thead th {\n        text-align: right;\n    }\n</style>\n<table border=\"1\" class=\"dataframe\">\n  <thead>\n    <tr style=\"text-align: right;\">\n      <th></th>\n      <th>sentence</th>\n      <th>良好</th>\n      <th>一般</th>\n      <th>较差</th>\n      <th>优秀</th>\n      <th>很差</th>\n    </tr>\n  </thead>\n  <tbody>\n    <tr>\n      <th>0</th>\n      <td>情感 识别 是 人机交互 中 备受 关注 的 研究 领域 之一 ， 论文 以 基于 视 听觉...</td>\n      <td>1</td>\n      <td>0</td>\n      <td>0</td>\n      <td>0</td>\n      <td>0</td>\n    </tr>\n    <tr>\n      <th>1</th>\n      <td>论文 针对 快速 启动 两 自由度 陀螺仪 ， 以 其 本体 设计 ， 野值 漂移 等 问题...</td>\n      <td>1</td>\n      <td>0</td>\n      <td>0</td>\n      <td>0</td>\n      <td>0</td>\n    </tr>\n    <tr>\n      <th>2</th>\n      <td>该 论文 针对 冲压 发动机 燃烧室 进气 畸变 的 问题 开展 畸变 模拟 和 抑制 方法...</td>\n      <td>0</td>\n      <td>1</td>\n      <td>0</td>\n      <td>0</td>\n      <td>0</td>\n    </tr>\n    <tr>\n      <th>3</th>\n      <td>劳动合同 法律 制度 是 劳动 法律 制度 的 重要 组成部分 ， 劳动合同 是 调整 劳资...</td>\n      <td>1</td>\n      <td>0</td>\n      <td>0</td>\n      <td>0</td>\n      <td>0</td>\n    </tr>\n    <tr>\n      <th>4</th>\n      <td>1 、 论文 选题 具有 比较 强 的 社会 现实意义 ， 并且 选题 是 符合 公共 管理...</td>\n      <td>1</td>\n      <td>0</td>\n      <td>0</td>\n      <td>0</td>\n      <td>0</td>\n    </tr>\n    <tr>\n      <th>...</th>\n      <td>...</td>\n      <td>...</td>\n      <td>...</td>\n      <td>...</td>\n      <td>...</td>\n      <td>...</td>\n    </tr>\n    <tr>\n      <th>711</th>\n      <td>论文 以 涡轮 基 组合 循环 （ TBCC ） 发动机 为 应用 背景 ， 开展 了 射流...</td>\n      <td>1</td>\n      <td>0</td>\n      <td>0</td>\n      <td>0</td>\n      <td>0</td>\n    </tr>\n    <tr>\n      <th>712</th>\n      <td>由于 高职 院校 学生 规模 增加 ， 实行 公寓化 的 学生宿舍 管理 面临 许多 问题 ...</td>\n      <td>0</td>\n      <td>1</td>\n      <td>0</td>\n      <td>0</td>\n      <td>0</td>\n    </tr>\n    <tr>\n      <th>713</th>\n      <td>对 城镇化 背景 下 ， 政府 在 推进 小城镇 发展 中 的 职能 定位问题 进行 研究 ...</td>\n      <td>0</td>\n      <td>1</td>\n      <td>0</td>\n      <td>0</td>\n      <td>0</td>\n    </tr>\n    <tr>\n      <th>714</th>\n      <td>本文 主要 对 施工 企 信息系统 这一 课题 进行 分析 ， 基于 云 计算 等 技术 方...</td>\n      <td>0</td>\n      <td>1</td>\n      <td>0</td>\n      <td>0</td>\n      <td>0</td>\n    </tr>\n    <tr>\n      <th>715</th>\n      <td>论文 结合实际 ， 研发 了 郑州 航院 自动 排课 系统 ， 论文 选题 有 实际意义 。</td>\n      <td>0</td>\n      <td>1</td>\n      <td>0</td>\n      <td>0</td>\n      <td>0</td>\n    </tr>\n  </tbody>\n</table>\n<p>716 rows × 6 columns</p>\n</div>"
     },
     "execution_count": 48,
     "metadata": {},
     "output_type": "execute_result"
    }
   ],
   "source": [
    "train_df"
   ],
   "metadata": {
    "collapsed": false,
    "pycharm": {
     "name": "#%%\n"
    }
   }
  },
  {
   "cell_type": "code",
   "execution_count": 49,
   "outputs": [],
   "source": [
    "test_df=test_df.drop(['label'],axis=1)"
   ],
   "metadata": {
    "collapsed": false,
    "pycharm": {
     "name": "#%%\n"
    }
   }
  },
  {
   "cell_type": "code",
   "execution_count": 50,
   "outputs": [
    {
     "data": {
      "text/plain": "                                              sentence  良好  一般  较差  优秀  很差\n0    本文 选题 于 工程 实践 中 发动机 常见 的 起动 问题 ， 特别 是 难以 定量 评估...   0   0   0   1   0\n1    双组元 电动 气 阀门 在 某 火箭 发动机 控制 中 起到 至关重要 的 作用 ， 欧美国...   1   0   0   0   0\n2    该 同学 的 论文 选题 有 一定 的 现实 针对性 ， 论文 观点 比较 明确 ， 资料 ...   0   1   0   0   0\n3    近些年来 随着 电子科技 和 设备 的 发展 ， 产生 了 电磁波 干扰 和 辐射 等 污染...   1   0   0   0   0\n4    论文 首先 分析 了 APC 产生 原因 ， 建立 了 非线性 人机 闭环 系统 模型 ， ...   1   0   0   0   0\n..                                                 ...  ..  ..  ..  ..  ..\n353  多 自主 水下 航行 器 协同 作业 日渐 成为 热点 研究 领域 ， 本 论文 针对 其中...   1   0   0   0   0\n354  本文 针对 农村 公共 产品 供给 失衡 问题 ， 从 机制 构建 和 创新 角度 入手 ，...   0   1   0   0   0\n355  论文 选题 迎合 当前 大 数据分析 的 主流 趋势 。 论文 工作 工作量 饱和 ， 系统...   1   0   0   0   0\n356  本 论文 以 红外 / 雷达 兼容 隐身 材料 为 研究 背景 ， 采用 分层 涂覆 方法 ...   1   0   0   0   0\n357  选择 某型 压气机 叶栅为 研究 对象 ， 针对 上游 尾迹 对 压气机 叶表 附面层 干涉...   1   0   0   0   0\n\n[358 rows x 6 columns]",
      "text/html": "<div>\n<style scoped>\n    .dataframe tbody tr th:only-of-type {\n        vertical-align: middle;\n    }\n\n    .dataframe tbody tr th {\n        vertical-align: top;\n    }\n\n    .dataframe thead th {\n        text-align: right;\n    }\n</style>\n<table border=\"1\" class=\"dataframe\">\n  <thead>\n    <tr style=\"text-align: right;\">\n      <th></th>\n      <th>sentence</th>\n      <th>良好</th>\n      <th>一般</th>\n      <th>较差</th>\n      <th>优秀</th>\n      <th>很差</th>\n    </tr>\n  </thead>\n  <tbody>\n    <tr>\n      <th>0</th>\n      <td>本文 选题 于 工程 实践 中 发动机 常见 的 起动 问题 ， 特别 是 难以 定量 评估...</td>\n      <td>0</td>\n      <td>0</td>\n      <td>0</td>\n      <td>1</td>\n      <td>0</td>\n    </tr>\n    <tr>\n      <th>1</th>\n      <td>双组元 电动 气 阀门 在 某 火箭 发动机 控制 中 起到 至关重要 的 作用 ， 欧美国...</td>\n      <td>1</td>\n      <td>0</td>\n      <td>0</td>\n      <td>0</td>\n      <td>0</td>\n    </tr>\n    <tr>\n      <th>2</th>\n      <td>该 同学 的 论文 选题 有 一定 的 现实 针对性 ， 论文 观点 比较 明确 ， 资料 ...</td>\n      <td>0</td>\n      <td>1</td>\n      <td>0</td>\n      <td>0</td>\n      <td>0</td>\n    </tr>\n    <tr>\n      <th>3</th>\n      <td>近些年来 随着 电子科技 和 设备 的 发展 ， 产生 了 电磁波 干扰 和 辐射 等 污染...</td>\n      <td>1</td>\n      <td>0</td>\n      <td>0</td>\n      <td>0</td>\n      <td>0</td>\n    </tr>\n    <tr>\n      <th>4</th>\n      <td>论文 首先 分析 了 APC 产生 原因 ， 建立 了 非线性 人机 闭环 系统 模型 ， ...</td>\n      <td>1</td>\n      <td>0</td>\n      <td>0</td>\n      <td>0</td>\n      <td>0</td>\n    </tr>\n    <tr>\n      <th>...</th>\n      <td>...</td>\n      <td>...</td>\n      <td>...</td>\n      <td>...</td>\n      <td>...</td>\n      <td>...</td>\n    </tr>\n    <tr>\n      <th>353</th>\n      <td>多 自主 水下 航行 器 协同 作业 日渐 成为 热点 研究 领域 ， 本 论文 针对 其中...</td>\n      <td>1</td>\n      <td>0</td>\n      <td>0</td>\n      <td>0</td>\n      <td>0</td>\n    </tr>\n    <tr>\n      <th>354</th>\n      <td>本文 针对 农村 公共 产品 供给 失衡 问题 ， 从 机制 构建 和 创新 角度 入手 ，...</td>\n      <td>0</td>\n      <td>1</td>\n      <td>0</td>\n      <td>0</td>\n      <td>0</td>\n    </tr>\n    <tr>\n      <th>355</th>\n      <td>论文 选题 迎合 当前 大 数据分析 的 主流 趋势 。 论文 工作 工作量 饱和 ， 系统...</td>\n      <td>1</td>\n      <td>0</td>\n      <td>0</td>\n      <td>0</td>\n      <td>0</td>\n    </tr>\n    <tr>\n      <th>356</th>\n      <td>本 论文 以 红外 / 雷达 兼容 隐身 材料 为 研究 背景 ， 采用 分层 涂覆 方法 ...</td>\n      <td>1</td>\n      <td>0</td>\n      <td>0</td>\n      <td>0</td>\n      <td>0</td>\n    </tr>\n    <tr>\n      <th>357</th>\n      <td>选择 某型 压气机 叶栅为 研究 对象 ， 针对 上游 尾迹 对 压气机 叶表 附面层 干涉...</td>\n      <td>1</td>\n      <td>0</td>\n      <td>0</td>\n      <td>0</td>\n      <td>0</td>\n    </tr>\n  </tbody>\n</table>\n<p>358 rows × 6 columns</p>\n</div>"
     },
     "execution_count": 50,
     "metadata": {},
     "output_type": "execute_result"
    }
   ],
   "source": [
    "test_df=test_df.reset_index()\n",
    "test_df = test_df.drop(['index'],axis=1)\n",
    "test_df"
   ],
   "metadata": {
    "collapsed": false,
    "pycharm": {
     "name": "#%%\n"
    }
   }
  },
  {
   "cell_type": "code",
   "execution_count": 51,
   "outputs": [],
   "source": [
    "test_df=np.array_split(test_df,2)\n",
    "val_df = test_df[0]\n",
    "test_df = test_df[1]"
   ],
   "metadata": {
    "collapsed": false,
    "pycharm": {
     "name": "#%%\n"
    }
   }
  },
  {
   "cell_type": "code",
   "execution_count": 52,
   "outputs": [
    {
     "data": {
      "text/plain": "                                              sentence  良好  一般  较差  优秀  很差\n0    本文 选题 于 工程 实践 中 发动机 常见 的 起动 问题 ， 特别 是 难以 定量 评估...   0   0   0   1   0\n1    双组元 电动 气 阀门 在 某 火箭 发动机 控制 中 起到 至关重要 的 作用 ， 欧美国...   1   0   0   0   0\n2    该 同学 的 论文 选题 有 一定 的 现实 针对性 ， 论文 观点 比较 明确 ， 资料 ...   0   1   0   0   0\n3    近些年来 随着 电子科技 和 设备 的 发展 ， 产生 了 电磁波 干扰 和 辐射 等 污染...   1   0   0   0   0\n4    论文 首先 分析 了 APC 产生 原因 ， 建立 了 非线性 人机 闭环 系统 模型 ， ...   1   0   0   0   0\n..                                                 ...  ..  ..  ..  ..  ..\n174  论文 针对 火箭 发动机 用 GH4202 合金 整流 栅 模锻 成形 工艺 研究 工作 ，...   0   0   0   1   0\n175  论文 以 直升机 传动系统 方案设计 为 研究 对象 ， 运用 图论 的 方法 开展 传动 ...   1   0   0   0   0\n176  论文 探讨 了 将 微 气动力 作为 低 轨道 微小 卫星 集群 飞行 控制 的 主动 控制...   1   0   0   0   0\n177  论文 选题 有 理论 和 实践 意义 ， 作者 对 选题 及其 国内外 相关 研究 比较 较...   0   1   0   0   0\n178  论文 选择 考虑 排放 污染 的 民用 客机 设计 优化 作为 主要 研究 内容 ， 将 环...   1   0   0   0   0\n\n[179 rows x 6 columns]",
      "text/html": "<div>\n<style scoped>\n    .dataframe tbody tr th:only-of-type {\n        vertical-align: middle;\n    }\n\n    .dataframe tbody tr th {\n        vertical-align: top;\n    }\n\n    .dataframe thead th {\n        text-align: right;\n    }\n</style>\n<table border=\"1\" class=\"dataframe\">\n  <thead>\n    <tr style=\"text-align: right;\">\n      <th></th>\n      <th>sentence</th>\n      <th>良好</th>\n      <th>一般</th>\n      <th>较差</th>\n      <th>优秀</th>\n      <th>很差</th>\n    </tr>\n  </thead>\n  <tbody>\n    <tr>\n      <th>0</th>\n      <td>本文 选题 于 工程 实践 中 发动机 常见 的 起动 问题 ， 特别 是 难以 定量 评估...</td>\n      <td>0</td>\n      <td>0</td>\n      <td>0</td>\n      <td>1</td>\n      <td>0</td>\n    </tr>\n    <tr>\n      <th>1</th>\n      <td>双组元 电动 气 阀门 在 某 火箭 发动机 控制 中 起到 至关重要 的 作用 ， 欧美国...</td>\n      <td>1</td>\n      <td>0</td>\n      <td>0</td>\n      <td>0</td>\n      <td>0</td>\n    </tr>\n    <tr>\n      <th>2</th>\n      <td>该 同学 的 论文 选题 有 一定 的 现实 针对性 ， 论文 观点 比较 明确 ， 资料 ...</td>\n      <td>0</td>\n      <td>1</td>\n      <td>0</td>\n      <td>0</td>\n      <td>0</td>\n    </tr>\n    <tr>\n      <th>3</th>\n      <td>近些年来 随着 电子科技 和 设备 的 发展 ， 产生 了 电磁波 干扰 和 辐射 等 污染...</td>\n      <td>1</td>\n      <td>0</td>\n      <td>0</td>\n      <td>0</td>\n      <td>0</td>\n    </tr>\n    <tr>\n      <th>4</th>\n      <td>论文 首先 分析 了 APC 产生 原因 ， 建立 了 非线性 人机 闭环 系统 模型 ， ...</td>\n      <td>1</td>\n      <td>0</td>\n      <td>0</td>\n      <td>0</td>\n      <td>0</td>\n    </tr>\n    <tr>\n      <th>...</th>\n      <td>...</td>\n      <td>...</td>\n      <td>...</td>\n      <td>...</td>\n      <td>...</td>\n      <td>...</td>\n    </tr>\n    <tr>\n      <th>174</th>\n      <td>论文 针对 火箭 发动机 用 GH4202 合金 整流 栅 模锻 成形 工艺 研究 工作 ，...</td>\n      <td>0</td>\n      <td>0</td>\n      <td>0</td>\n      <td>1</td>\n      <td>0</td>\n    </tr>\n    <tr>\n      <th>175</th>\n      <td>论文 以 直升机 传动系统 方案设计 为 研究 对象 ， 运用 图论 的 方法 开展 传动 ...</td>\n      <td>1</td>\n      <td>0</td>\n      <td>0</td>\n      <td>0</td>\n      <td>0</td>\n    </tr>\n    <tr>\n      <th>176</th>\n      <td>论文 探讨 了 将 微 气动力 作为 低 轨道 微小 卫星 集群 飞行 控制 的 主动 控制...</td>\n      <td>1</td>\n      <td>0</td>\n      <td>0</td>\n      <td>0</td>\n      <td>0</td>\n    </tr>\n    <tr>\n      <th>177</th>\n      <td>论文 选题 有 理论 和 实践 意义 ， 作者 对 选题 及其 国内外 相关 研究 比较 较...</td>\n      <td>0</td>\n      <td>1</td>\n      <td>0</td>\n      <td>0</td>\n      <td>0</td>\n    </tr>\n    <tr>\n      <th>178</th>\n      <td>论文 选择 考虑 排放 污染 的 民用 客机 设计 优化 作为 主要 研究 内容 ， 将 环...</td>\n      <td>1</td>\n      <td>0</td>\n      <td>0</td>\n      <td>0</td>\n      <td>0</td>\n    </tr>\n  </tbody>\n</table>\n<p>179 rows × 6 columns</p>\n</div>"
     },
     "execution_count": 52,
     "metadata": {},
     "output_type": "execute_result"
    }
   ],
   "source": [
    "val_df"
   ],
   "metadata": {
    "collapsed": false,
    "pycharm": {
     "name": "#%%\n"
    }
   }
  },
  {
   "cell_type": "code",
   "execution_count": 53,
   "outputs": [
    {
     "data": {
      "text/plain": "                                              sentence  良好  一般  较差  优秀  很差\n179  论文 选题 有 明确 的 国防 应用 背景 ， 采用 数值 模拟 方法 进行 研究 亦 是 ...   0   1   0   0   0\n180  论文 针对 传统 会议 公告 中 存在 的 问题 ， 结合实际 ， 依据 软件工程 思想 ，...   1   0   0   0   0\n181  微弧 氧化 可以 有效 提高 铝合金 表面 耐蚀 耐磨性能 ， 以往 的 研究 多 集中 在...   1   0   0   0   0\n182                                           论文 对 OPC   1   0   0   0   0\n183  论文 针对 涡扇 发动机 低压 涡轮 部件 装配 技术 展开 研究 ， 对 低压 涡轮 部件...   1   0   0   0   0\n..                                                 ...  ..  ..  ..  ..  ..\n353  多 自主 水下 航行 器 协同 作业 日渐 成为 热点 研究 领域 ， 本 论文 针对 其中...   1   0   0   0   0\n354  本文 针对 农村 公共 产品 供给 失衡 问题 ， 从 机制 构建 和 创新 角度 入手 ，...   0   1   0   0   0\n355  论文 选题 迎合 当前 大 数据分析 的 主流 趋势 。 论文 工作 工作量 饱和 ， 系统...   1   0   0   0   0\n356  本 论文 以 红外 / 雷达 兼容 隐身 材料 为 研究 背景 ， 采用 分层 涂覆 方法 ...   1   0   0   0   0\n357  选择 某型 压气机 叶栅为 研究 对象 ， 针对 上游 尾迹 对 压气机 叶表 附面层 干涉...   1   0   0   0   0\n\n[179 rows x 6 columns]",
      "text/html": "<div>\n<style scoped>\n    .dataframe tbody tr th:only-of-type {\n        vertical-align: middle;\n    }\n\n    .dataframe tbody tr th {\n        vertical-align: top;\n    }\n\n    .dataframe thead th {\n        text-align: right;\n    }\n</style>\n<table border=\"1\" class=\"dataframe\">\n  <thead>\n    <tr style=\"text-align: right;\">\n      <th></th>\n      <th>sentence</th>\n      <th>良好</th>\n      <th>一般</th>\n      <th>较差</th>\n      <th>优秀</th>\n      <th>很差</th>\n    </tr>\n  </thead>\n  <tbody>\n    <tr>\n      <th>179</th>\n      <td>论文 选题 有 明确 的 国防 应用 背景 ， 采用 数值 模拟 方法 进行 研究 亦 是 ...</td>\n      <td>0</td>\n      <td>1</td>\n      <td>0</td>\n      <td>0</td>\n      <td>0</td>\n    </tr>\n    <tr>\n      <th>180</th>\n      <td>论文 针对 传统 会议 公告 中 存在 的 问题 ， 结合实际 ， 依据 软件工程 思想 ，...</td>\n      <td>1</td>\n      <td>0</td>\n      <td>0</td>\n      <td>0</td>\n      <td>0</td>\n    </tr>\n    <tr>\n      <th>181</th>\n      <td>微弧 氧化 可以 有效 提高 铝合金 表面 耐蚀 耐磨性能 ， 以往 的 研究 多 集中 在...</td>\n      <td>1</td>\n      <td>0</td>\n      <td>0</td>\n      <td>0</td>\n      <td>0</td>\n    </tr>\n    <tr>\n      <th>182</th>\n      <td>论文 对 OPC</td>\n      <td>1</td>\n      <td>0</td>\n      <td>0</td>\n      <td>0</td>\n      <td>0</td>\n    </tr>\n    <tr>\n      <th>183</th>\n      <td>论文 针对 涡扇 发动机 低压 涡轮 部件 装配 技术 展开 研究 ， 对 低压 涡轮 部件...</td>\n      <td>1</td>\n      <td>0</td>\n      <td>0</td>\n      <td>0</td>\n      <td>0</td>\n    </tr>\n    <tr>\n      <th>...</th>\n      <td>...</td>\n      <td>...</td>\n      <td>...</td>\n      <td>...</td>\n      <td>...</td>\n      <td>...</td>\n    </tr>\n    <tr>\n      <th>353</th>\n      <td>多 自主 水下 航行 器 协同 作业 日渐 成为 热点 研究 领域 ， 本 论文 针对 其中...</td>\n      <td>1</td>\n      <td>0</td>\n      <td>0</td>\n      <td>0</td>\n      <td>0</td>\n    </tr>\n    <tr>\n      <th>354</th>\n      <td>本文 针对 农村 公共 产品 供给 失衡 问题 ， 从 机制 构建 和 创新 角度 入手 ，...</td>\n      <td>0</td>\n      <td>1</td>\n      <td>0</td>\n      <td>0</td>\n      <td>0</td>\n    </tr>\n    <tr>\n      <th>355</th>\n      <td>论文 选题 迎合 当前 大 数据分析 的 主流 趋势 。 论文 工作 工作量 饱和 ， 系统...</td>\n      <td>1</td>\n      <td>0</td>\n      <td>0</td>\n      <td>0</td>\n      <td>0</td>\n    </tr>\n    <tr>\n      <th>356</th>\n      <td>本 论文 以 红外 / 雷达 兼容 隐身 材料 为 研究 背景 ， 采用 分层 涂覆 方法 ...</td>\n      <td>1</td>\n      <td>0</td>\n      <td>0</td>\n      <td>0</td>\n      <td>0</td>\n    </tr>\n    <tr>\n      <th>357</th>\n      <td>选择 某型 压气机 叶栅为 研究 对象 ， 针对 上游 尾迹 对 压气机 叶表 附面层 干涉...</td>\n      <td>1</td>\n      <td>0</td>\n      <td>0</td>\n      <td>0</td>\n      <td>0</td>\n    </tr>\n  </tbody>\n</table>\n<p>179 rows × 6 columns</p>\n</div>"
     },
     "execution_count": 53,
     "metadata": {},
     "output_type": "execute_result"
    }
   ],
   "source": [
    "# # test_df1 = test_df.drop(['level_0','index'],axis=1)\n",
    "# test_df=test_df1\n",
    "test_df"
   ],
   "metadata": {
    "collapsed": false,
    "pycharm": {
     "name": "#%%\n"
    }
   }
  },
  {
   "cell_type": "code",
   "execution_count": 54,
   "outputs": [],
   "source": [
    "target_list = ['良好', '一般', '较差', '优秀', '很差']"
   ],
   "metadata": {
    "collapsed": false,
    "pycharm": {
     "name": "#%%\n"
    }
   }
  },
  {
   "cell_type": "code",
   "execution_count": 55,
   "outputs": [],
   "source": [
    "# hyperparameters\n",
    "MAX_LEN = 256\n",
    "TRAIN_BATCH_SIZE = 1\n",
    "VALID_BATCH_SIZE = 1\n",
    "EPOCHS = 2\n",
    "LEARNING_RATE = 1e-05"
   ],
   "metadata": {
    "collapsed": false,
    "pycharm": {
     "name": "#%%\n"
    }
   }
  },
  {
   "cell_type": "code",
   "execution_count": 56,
   "outputs": [],
   "source": [
    "#tokenizer import\n",
    "from transformers import BertTokenizer,BertModel"
   ],
   "metadata": {
    "collapsed": false,
    "pycharm": {
     "name": "#%%\n"
    }
   }
  },
  {
   "cell_type": "code",
   "execution_count": 57,
   "outputs": [],
   "source": [
    "tokenizer = BertTokenizer.from_pretrained('bert-base-chinese')"
   ],
   "metadata": {
    "collapsed": false,
    "pycharm": {
     "name": "#%%\n"
    }
   }
  },
  {
   "cell_type": "code",
   "execution_count": 58,
   "outputs": [],
   "source": [
    "class CustomDataset(torch.utils.data.Dataset):\n",
    "\n",
    "    def __init__(self, df, tokenizer, max_len):\n",
    "        self.tokenizer = tokenizer\n",
    "        self.df = df\n",
    "        self.title = df['sentence']\n",
    "        self.targets = self.df[target_list].values\n",
    "        self.max_len = max_len\n",
    "\n",
    "    def __len__(self):\n",
    "        return len(self.title)\n",
    "\n",
    "    def __getitem__(self, index):\n",
    "        title = str(self.title[index])\n",
    "        title = \" \".join(title.split())\n",
    "\n",
    "        inputs = self.tokenizer.encode_plus(\n",
    "            title,\n",
    "            None,\n",
    "            add_special_tokens=True,\n",
    "            max_length=self.max_len,\n",
    "            padding='max_length',\n",
    "            return_token_type_ids=True,\n",
    "            truncation=True,\n",
    "            return_attention_mask=True,\n",
    "            return_tensors='pt'\n",
    "        )\n",
    "\n",
    "        return {\n",
    "            'input_ids': inputs['input_ids'].flatten(),\n",
    "            'attention_mask': inputs['attention_mask'].flatten(),\n",
    "            'token_type_ids': inputs[\"token_type_ids\"].flatten(),\n",
    "            'targets': torch.FloatTensor(self.targets[index])\n",
    "        }"
   ],
   "metadata": {
    "collapsed": false,
    "pycharm": {
     "name": "#%%\n"
    }
   }
  },
  {
   "cell_type": "code",
   "execution_count": 59,
   "outputs": [],
   "source": [
    "train_df = train_df\n",
    "val_df = val_df"
   ],
   "metadata": {
    "collapsed": false,
    "pycharm": {
     "name": "#%%\n"
    }
   }
  },
  {
   "cell_type": "code",
   "execution_count": 60,
   "outputs": [
    {
     "data": {
      "text/plain": "                                              sentence  良好  一般  较差  优秀  很差\n0    情感 识别 是 人机交互 中 备受 关注 的 研究 领域 之一 ， 论文 以 基于 视 听觉...   1   0   0   0   0\n1    论文 针对 快速 启动 两 自由度 陀螺仪 ， 以 其 本体 设计 ， 野值 漂移 等 问题...   1   0   0   0   0\n2    该 论文 针对 冲压 发动机 燃烧室 进气 畸变 的 问题 开展 畸变 模拟 和 抑制 方法...   0   1   0   0   0\n3    劳动合同 法律 制度 是 劳动 法律 制度 的 重要 组成部分 ， 劳动合同 是 调整 劳资...   1   0   0   0   0\n4    1 、 论文 选题 具有 比较 强 的 社会 现实意义 ， 并且 选题 是 符合 公共 管理...   1   0   0   0   0\n..                                                 ...  ..  ..  ..  ..  ..\n711  论文 以 涡轮 基 组合 循环 （ TBCC ） 发动机 为 应用 背景 ， 开展 了 射流...   1   0   0   0   0\n712  由于 高职 院校 学生 规模 增加 ， 实行 公寓化 的 学生宿舍 管理 面临 许多 问题 ...   0   1   0   0   0\n713  对 城镇化 背景 下 ， 政府 在 推进 小城镇 发展 中 的 职能 定位问题 进行 研究 ...   0   1   0   0   0\n714  本文 主要 对 施工 企 信息系统 这一 课题 进行 分析 ， 基于 云 计算 等 技术 方...   0   1   0   0   0\n715     论文 结合实际 ， 研发 了 郑州 航院 自动 排课 系统 ， 论文 选题 有 实际意义 。   0   1   0   0   0\n\n[716 rows x 6 columns]",
      "text/html": "<div>\n<style scoped>\n    .dataframe tbody tr th:only-of-type {\n        vertical-align: middle;\n    }\n\n    .dataframe tbody tr th {\n        vertical-align: top;\n    }\n\n    .dataframe thead th {\n        text-align: right;\n    }\n</style>\n<table border=\"1\" class=\"dataframe\">\n  <thead>\n    <tr style=\"text-align: right;\">\n      <th></th>\n      <th>sentence</th>\n      <th>良好</th>\n      <th>一般</th>\n      <th>较差</th>\n      <th>优秀</th>\n      <th>很差</th>\n    </tr>\n  </thead>\n  <tbody>\n    <tr>\n      <th>0</th>\n      <td>情感 识别 是 人机交互 中 备受 关注 的 研究 领域 之一 ， 论文 以 基于 视 听觉...</td>\n      <td>1</td>\n      <td>0</td>\n      <td>0</td>\n      <td>0</td>\n      <td>0</td>\n    </tr>\n    <tr>\n      <th>1</th>\n      <td>论文 针对 快速 启动 两 自由度 陀螺仪 ， 以 其 本体 设计 ， 野值 漂移 等 问题...</td>\n      <td>1</td>\n      <td>0</td>\n      <td>0</td>\n      <td>0</td>\n      <td>0</td>\n    </tr>\n    <tr>\n      <th>2</th>\n      <td>该 论文 针对 冲压 发动机 燃烧室 进气 畸变 的 问题 开展 畸变 模拟 和 抑制 方法...</td>\n      <td>0</td>\n      <td>1</td>\n      <td>0</td>\n      <td>0</td>\n      <td>0</td>\n    </tr>\n    <tr>\n      <th>3</th>\n      <td>劳动合同 法律 制度 是 劳动 法律 制度 的 重要 组成部分 ， 劳动合同 是 调整 劳资...</td>\n      <td>1</td>\n      <td>0</td>\n      <td>0</td>\n      <td>0</td>\n      <td>0</td>\n    </tr>\n    <tr>\n      <th>4</th>\n      <td>1 、 论文 选题 具有 比较 强 的 社会 现实意义 ， 并且 选题 是 符合 公共 管理...</td>\n      <td>1</td>\n      <td>0</td>\n      <td>0</td>\n      <td>0</td>\n      <td>0</td>\n    </tr>\n    <tr>\n      <th>...</th>\n      <td>...</td>\n      <td>...</td>\n      <td>...</td>\n      <td>...</td>\n      <td>...</td>\n      <td>...</td>\n    </tr>\n    <tr>\n      <th>711</th>\n      <td>论文 以 涡轮 基 组合 循环 （ TBCC ） 发动机 为 应用 背景 ， 开展 了 射流...</td>\n      <td>1</td>\n      <td>0</td>\n      <td>0</td>\n      <td>0</td>\n      <td>0</td>\n    </tr>\n    <tr>\n      <th>712</th>\n      <td>由于 高职 院校 学生 规模 增加 ， 实行 公寓化 的 学生宿舍 管理 面临 许多 问题 ...</td>\n      <td>0</td>\n      <td>1</td>\n      <td>0</td>\n      <td>0</td>\n      <td>0</td>\n    </tr>\n    <tr>\n      <th>713</th>\n      <td>对 城镇化 背景 下 ， 政府 在 推进 小城镇 发展 中 的 职能 定位问题 进行 研究 ...</td>\n      <td>0</td>\n      <td>1</td>\n      <td>0</td>\n      <td>0</td>\n      <td>0</td>\n    </tr>\n    <tr>\n      <th>714</th>\n      <td>本文 主要 对 施工 企 信息系统 这一 课题 进行 分析 ， 基于 云 计算 等 技术 方...</td>\n      <td>0</td>\n      <td>1</td>\n      <td>0</td>\n      <td>0</td>\n      <td>0</td>\n    </tr>\n    <tr>\n      <th>715</th>\n      <td>论文 结合实际 ， 研发 了 郑州 航院 自动 排课 系统 ， 论文 选题 有 实际意义 。</td>\n      <td>0</td>\n      <td>1</td>\n      <td>0</td>\n      <td>0</td>\n      <td>0</td>\n    </tr>\n  </tbody>\n</table>\n<p>716 rows × 6 columns</p>\n</div>"
     },
     "execution_count": 60,
     "metadata": {},
     "output_type": "execute_result"
    }
   ],
   "source": [
    "train_df"
   ],
   "metadata": {
    "collapsed": false,
    "pycharm": {
     "name": "#%%\n"
    }
   }
  },
  {
   "cell_type": "code",
   "execution_count": 61,
   "outputs": [],
   "source": [
    "train_dataset = CustomDataset(train_df, tokenizer, MAX_LEN)\n",
    "valid_dataset = CustomDataset(val_df, tokenizer, MAX_LEN)"
   ],
   "metadata": {
    "collapsed": false,
    "pycharm": {
     "name": "#%%\n"
    }
   }
  },
  {
   "cell_type": "code",
   "execution_count": 62,
   "outputs": [],
   "source": [
    "train_data_loader = torch.utils.data.DataLoader(train_dataset,\n",
    "    batch_size=TRAIN_BATCH_SIZE,\n",
    "    shuffle=True,\n",
    "    num_workers=0,\n",
    "    drop_last = True\n",
    ")\n",
    "\n",
    "val_data_loader = torch.utils.data.DataLoader(valid_dataset,\n",
    "    batch_size=VALID_BATCH_SIZE,\n",
    "    shuffle=False,\n",
    "    num_workers=0\n",
    ")"
   ],
   "metadata": {
    "collapsed": false,
    "pycharm": {
     "name": "#%%\n"
    }
   }
  },
  {
   "cell_type": "code",
   "execution_count": 63,
   "outputs": [],
   "source": [
    "device = torch.device('cpu')\n",
    "#torch.device('cuda') if torch.cuda.is_available() else"
   ],
   "metadata": {
    "collapsed": false,
    "pycharm": {
     "name": "#%%\n"
    }
   }
  },
  {
   "cell_type": "code",
   "execution_count": 64,
   "outputs": [
    {
     "data": {
      "text/plain": "device(type='cpu')"
     },
     "execution_count": 64,
     "metadata": {},
     "output_type": "execute_result"
    }
   ],
   "source": [
    "device"
   ],
   "metadata": {
    "collapsed": false,
    "pycharm": {
     "name": "#%%\n"
    }
   }
  },
  {
   "cell_type": "code",
   "execution_count": 65,
   "outputs": [],
   "source": [
    "def load_ckp(checkpoint_fpath, model, optimizer):\n",
    "    \"\"\"\n",
    "    checkpoint_path: path to save checkpoint\n",
    "    model: model that we want to load checkpoint parameters into\n",
    "    optimizer: optimizer we defined in previous training\n",
    "    \"\"\"\n",
    "    # load check point\n",
    "    checkpoint = torch.load(checkpoint_fpath)\n",
    "    # initialize state_dict from checkpoint to model\n",
    "    model.load_state_dict(checkpoint['state_dict'])\n",
    "    # initialize optimizer from checkpoint to optimizer\n",
    "    optimizer.load_state_dict(checkpoint['optimizer'])\n",
    "    # initialize valid_loss_min from checkpoint to valid_loss_min\n",
    "    valid_loss_min = checkpoint['valid_loss_min']\n",
    "    # return model, optimizer, epoch value, min validation loss\n",
    "    return model, optimizer, checkpoint['epoch'], valid_loss_min.item()\n",
    "\n",
    "def save_ckp(state, is_best, checkpoint_path, best_model_path):\n",
    "    \"\"\"\n",
    "    state: checkpoint we want to save\n",
    "    is_best: is this the best checkpoint; min validation loss\n",
    "    checkpoint_path: path to save checkpoint\n",
    "    best_model_path: path to save best model\n",
    "    \"\"\"\n",
    "    f_path = checkpoint_path\n",
    "    # save checkpoint data to the path given, checkpoint_path\n",
    "    torch.save(state, f_path)\n",
    "    # if it is a best model, min validation loss\n",
    "    if is_best:\n",
    "        best_fpath = best_model_path\n",
    "        # copy that checkpoint file to best path given, best_model_path\n",
    "        shutil.copyfile(f_path, best_fpath)"
   ],
   "metadata": {
    "collapsed": false,
    "pycharm": {
     "name": "#%%\n"
    }
   }
  },
  {
   "cell_type": "code",
   "execution_count": 66,
   "outputs": [
    {
     "name": "stderr",
     "output_type": "stream",
     "text": [
      "Some weights of the model checkpoint at bert-base-chinese were not used when initializing BertModel: ['cls.predictions.transform.LayerNorm.bias', 'cls.predictions.bias', 'cls.seq_relationship.bias', 'cls.predictions.decoder.weight', 'cls.predictions.transform.dense.weight', 'cls.predictions.transform.LayerNorm.weight', 'cls.seq_relationship.weight', 'cls.predictions.transform.dense.bias']\n",
      "- This IS expected if you are initializing BertModel from the checkpoint of a model trained on another task or with another architecture (e.g. initializing a BertForSequenceClassification model from a BertForPreTraining model).\n",
      "- This IS NOT expected if you are initializing BertModel from the checkpoint of a model that you expect to be exactly identical (initializing a BertForSequenceClassification model from a BertForSequenceClassification model).\n"
     ]
    },
    {
     "data": {
      "text/plain": "BERTClass(\n  (bert_model): BertModel(\n    (embeddings): BertEmbeddings(\n      (word_embeddings): Embedding(21128, 768, padding_idx=0)\n      (position_embeddings): Embedding(512, 768)\n      (token_type_embeddings): Embedding(2, 768)\n      (LayerNorm): LayerNorm((768,), eps=1e-12, elementwise_affine=True)\n      (dropout): Dropout(p=0.1, inplace=False)\n    )\n    (encoder): BertEncoder(\n      (layer): ModuleList(\n        (0): BertLayer(\n          (attention): BertAttention(\n            (self): BertSelfAttention(\n              (query): Linear(in_features=768, out_features=768, bias=True)\n              (key): Linear(in_features=768, out_features=768, bias=True)\n              (value): Linear(in_features=768, out_features=768, bias=True)\n              (dropout): Dropout(p=0.1, inplace=False)\n            )\n            (output): BertSelfOutput(\n              (dense): Linear(in_features=768, out_features=768, bias=True)\n              (LayerNorm): LayerNorm((768,), eps=1e-12, elementwise_affine=True)\n              (dropout): Dropout(p=0.1, inplace=False)\n            )\n          )\n          (intermediate): BertIntermediate(\n            (dense): Linear(in_features=768, out_features=3072, bias=True)\n          )\n          (output): BertOutput(\n            (dense): Linear(in_features=3072, out_features=768, bias=True)\n            (LayerNorm): LayerNorm((768,), eps=1e-12, elementwise_affine=True)\n            (dropout): Dropout(p=0.1, inplace=False)\n          )\n        )\n        (1): BertLayer(\n          (attention): BertAttention(\n            (self): BertSelfAttention(\n              (query): Linear(in_features=768, out_features=768, bias=True)\n              (key): Linear(in_features=768, out_features=768, bias=True)\n              (value): Linear(in_features=768, out_features=768, bias=True)\n              (dropout): Dropout(p=0.1, inplace=False)\n            )\n            (output): BertSelfOutput(\n              (dense): Linear(in_features=768, out_features=768, bias=True)\n              (LayerNorm): LayerNorm((768,), eps=1e-12, elementwise_affine=True)\n              (dropout): Dropout(p=0.1, inplace=False)\n            )\n          )\n          (intermediate): BertIntermediate(\n            (dense): Linear(in_features=768, out_features=3072, bias=True)\n          )\n          (output): BertOutput(\n            (dense): Linear(in_features=3072, out_features=768, bias=True)\n            (LayerNorm): LayerNorm((768,), eps=1e-12, elementwise_affine=True)\n            (dropout): Dropout(p=0.1, inplace=False)\n          )\n        )\n        (2): BertLayer(\n          (attention): BertAttention(\n            (self): BertSelfAttention(\n              (query): Linear(in_features=768, out_features=768, bias=True)\n              (key): Linear(in_features=768, out_features=768, bias=True)\n              (value): Linear(in_features=768, out_features=768, bias=True)\n              (dropout): Dropout(p=0.1, inplace=False)\n            )\n            (output): BertSelfOutput(\n              (dense): Linear(in_features=768, out_features=768, bias=True)\n              (LayerNorm): LayerNorm((768,), eps=1e-12, elementwise_affine=True)\n              (dropout): Dropout(p=0.1, inplace=False)\n            )\n          )\n          (intermediate): BertIntermediate(\n            (dense): Linear(in_features=768, out_features=3072, bias=True)\n          )\n          (output): BertOutput(\n            (dense): Linear(in_features=3072, out_features=768, bias=True)\n            (LayerNorm): LayerNorm((768,), eps=1e-12, elementwise_affine=True)\n            (dropout): Dropout(p=0.1, inplace=False)\n          )\n        )\n        (3): BertLayer(\n          (attention): BertAttention(\n            (self): BertSelfAttention(\n              (query): Linear(in_features=768, out_features=768, bias=True)\n              (key): Linear(in_features=768, out_features=768, bias=True)\n              (value): Linear(in_features=768, out_features=768, bias=True)\n              (dropout): Dropout(p=0.1, inplace=False)\n            )\n            (output): BertSelfOutput(\n              (dense): Linear(in_features=768, out_features=768, bias=True)\n              (LayerNorm): LayerNorm((768,), eps=1e-12, elementwise_affine=True)\n              (dropout): Dropout(p=0.1, inplace=False)\n            )\n          )\n          (intermediate): BertIntermediate(\n            (dense): Linear(in_features=768, out_features=3072, bias=True)\n          )\n          (output): BertOutput(\n            (dense): Linear(in_features=3072, out_features=768, bias=True)\n            (LayerNorm): LayerNorm((768,), eps=1e-12, elementwise_affine=True)\n            (dropout): Dropout(p=0.1, inplace=False)\n          )\n        )\n        (4): BertLayer(\n          (attention): BertAttention(\n            (self): BertSelfAttention(\n              (query): Linear(in_features=768, out_features=768, bias=True)\n              (key): Linear(in_features=768, out_features=768, bias=True)\n              (value): Linear(in_features=768, out_features=768, bias=True)\n              (dropout): Dropout(p=0.1, inplace=False)\n            )\n            (output): BertSelfOutput(\n              (dense): Linear(in_features=768, out_features=768, bias=True)\n              (LayerNorm): LayerNorm((768,), eps=1e-12, elementwise_affine=True)\n              (dropout): Dropout(p=0.1, inplace=False)\n            )\n          )\n          (intermediate): BertIntermediate(\n            (dense): Linear(in_features=768, out_features=3072, bias=True)\n          )\n          (output): BertOutput(\n            (dense): Linear(in_features=3072, out_features=768, bias=True)\n            (LayerNorm): LayerNorm((768,), eps=1e-12, elementwise_affine=True)\n            (dropout): Dropout(p=0.1, inplace=False)\n          )\n        )\n        (5): BertLayer(\n          (attention): BertAttention(\n            (self): BertSelfAttention(\n              (query): Linear(in_features=768, out_features=768, bias=True)\n              (key): Linear(in_features=768, out_features=768, bias=True)\n              (value): Linear(in_features=768, out_features=768, bias=True)\n              (dropout): Dropout(p=0.1, inplace=False)\n            )\n            (output): BertSelfOutput(\n              (dense): Linear(in_features=768, out_features=768, bias=True)\n              (LayerNorm): LayerNorm((768,), eps=1e-12, elementwise_affine=True)\n              (dropout): Dropout(p=0.1, inplace=False)\n            )\n          )\n          (intermediate): BertIntermediate(\n            (dense): Linear(in_features=768, out_features=3072, bias=True)\n          )\n          (output): BertOutput(\n            (dense): Linear(in_features=3072, out_features=768, bias=True)\n            (LayerNorm): LayerNorm((768,), eps=1e-12, elementwise_affine=True)\n            (dropout): Dropout(p=0.1, inplace=False)\n          )\n        )\n        (6): BertLayer(\n          (attention): BertAttention(\n            (self): BertSelfAttention(\n              (query): Linear(in_features=768, out_features=768, bias=True)\n              (key): Linear(in_features=768, out_features=768, bias=True)\n              (value): Linear(in_features=768, out_features=768, bias=True)\n              (dropout): Dropout(p=0.1, inplace=False)\n            )\n            (output): BertSelfOutput(\n              (dense): Linear(in_features=768, out_features=768, bias=True)\n              (LayerNorm): LayerNorm((768,), eps=1e-12, elementwise_affine=True)\n              (dropout): Dropout(p=0.1, inplace=False)\n            )\n          )\n          (intermediate): BertIntermediate(\n            (dense): Linear(in_features=768, out_features=3072, bias=True)\n          )\n          (output): BertOutput(\n            (dense): Linear(in_features=3072, out_features=768, bias=True)\n            (LayerNorm): LayerNorm((768,), eps=1e-12, elementwise_affine=True)\n            (dropout): Dropout(p=0.1, inplace=False)\n          )\n        )\n        (7): BertLayer(\n          (attention): BertAttention(\n            (self): BertSelfAttention(\n              (query): Linear(in_features=768, out_features=768, bias=True)\n              (key): Linear(in_features=768, out_features=768, bias=True)\n              (value): Linear(in_features=768, out_features=768, bias=True)\n              (dropout): Dropout(p=0.1, inplace=False)\n            )\n            (output): BertSelfOutput(\n              (dense): Linear(in_features=768, out_features=768, bias=True)\n              (LayerNorm): LayerNorm((768,), eps=1e-12, elementwise_affine=True)\n              (dropout): Dropout(p=0.1, inplace=False)\n            )\n          )\n          (intermediate): BertIntermediate(\n            (dense): Linear(in_features=768, out_features=3072, bias=True)\n          )\n          (output): BertOutput(\n            (dense): Linear(in_features=3072, out_features=768, bias=True)\n            (LayerNorm): LayerNorm((768,), eps=1e-12, elementwise_affine=True)\n            (dropout): Dropout(p=0.1, inplace=False)\n          )\n        )\n        (8): BertLayer(\n          (attention): BertAttention(\n            (self): BertSelfAttention(\n              (query): Linear(in_features=768, out_features=768, bias=True)\n              (key): Linear(in_features=768, out_features=768, bias=True)\n              (value): Linear(in_features=768, out_features=768, bias=True)\n              (dropout): Dropout(p=0.1, inplace=False)\n            )\n            (output): BertSelfOutput(\n              (dense): Linear(in_features=768, out_features=768, bias=True)\n              (LayerNorm): LayerNorm((768,), eps=1e-12, elementwise_affine=True)\n              (dropout): Dropout(p=0.1, inplace=False)\n            )\n          )\n          (intermediate): BertIntermediate(\n            (dense): Linear(in_features=768, out_features=3072, bias=True)\n          )\n          (output): BertOutput(\n            (dense): Linear(in_features=3072, out_features=768, bias=True)\n            (LayerNorm): LayerNorm((768,), eps=1e-12, elementwise_affine=True)\n            (dropout): Dropout(p=0.1, inplace=False)\n          )\n        )\n        (9): BertLayer(\n          (attention): BertAttention(\n            (self): BertSelfAttention(\n              (query): Linear(in_features=768, out_features=768, bias=True)\n              (key): Linear(in_features=768, out_features=768, bias=True)\n              (value): Linear(in_features=768, out_features=768, bias=True)\n              (dropout): Dropout(p=0.1, inplace=False)\n            )\n            (output): BertSelfOutput(\n              (dense): Linear(in_features=768, out_features=768, bias=True)\n              (LayerNorm): LayerNorm((768,), eps=1e-12, elementwise_affine=True)\n              (dropout): Dropout(p=0.1, inplace=False)\n            )\n          )\n          (intermediate): BertIntermediate(\n            (dense): Linear(in_features=768, out_features=3072, bias=True)\n          )\n          (output): BertOutput(\n            (dense): Linear(in_features=3072, out_features=768, bias=True)\n            (LayerNorm): LayerNorm((768,), eps=1e-12, elementwise_affine=True)\n            (dropout): Dropout(p=0.1, inplace=False)\n          )\n        )\n        (10): BertLayer(\n          (attention): BertAttention(\n            (self): BertSelfAttention(\n              (query): Linear(in_features=768, out_features=768, bias=True)\n              (key): Linear(in_features=768, out_features=768, bias=True)\n              (value): Linear(in_features=768, out_features=768, bias=True)\n              (dropout): Dropout(p=0.1, inplace=False)\n            )\n            (output): BertSelfOutput(\n              (dense): Linear(in_features=768, out_features=768, bias=True)\n              (LayerNorm): LayerNorm((768,), eps=1e-12, elementwise_affine=True)\n              (dropout): Dropout(p=0.1, inplace=False)\n            )\n          )\n          (intermediate): BertIntermediate(\n            (dense): Linear(in_features=768, out_features=3072, bias=True)\n          )\n          (output): BertOutput(\n            (dense): Linear(in_features=3072, out_features=768, bias=True)\n            (LayerNorm): LayerNorm((768,), eps=1e-12, elementwise_affine=True)\n            (dropout): Dropout(p=0.1, inplace=False)\n          )\n        )\n        (11): BertLayer(\n          (attention): BertAttention(\n            (self): BertSelfAttention(\n              (query): Linear(in_features=768, out_features=768, bias=True)\n              (key): Linear(in_features=768, out_features=768, bias=True)\n              (value): Linear(in_features=768, out_features=768, bias=True)\n              (dropout): Dropout(p=0.1, inplace=False)\n            )\n            (output): BertSelfOutput(\n              (dense): Linear(in_features=768, out_features=768, bias=True)\n              (LayerNorm): LayerNorm((768,), eps=1e-12, elementwise_affine=True)\n              (dropout): Dropout(p=0.1, inplace=False)\n            )\n          )\n          (intermediate): BertIntermediate(\n            (dense): Linear(in_features=768, out_features=3072, bias=True)\n          )\n          (output): BertOutput(\n            (dense): Linear(in_features=3072, out_features=768, bias=True)\n            (LayerNorm): LayerNorm((768,), eps=1e-12, elementwise_affine=True)\n            (dropout): Dropout(p=0.1, inplace=False)\n          )\n        )\n      )\n    )\n    (pooler): BertPooler(\n      (dense): Linear(in_features=768, out_features=768, bias=True)\n      (activation): Tanh()\n    )\n  )\n  (dropout): Dropout(p=0.3, inplace=False)\n  (linear): Linear(in_features=768, out_features=5, bias=True)\n)"
     },
     "execution_count": 66,
     "metadata": {},
     "output_type": "execute_result"
    }
   ],
   "source": [
    "class BERTClass(torch.nn.Module):\n",
    "    def __init__(self):\n",
    "        super(BERTClass, self).__init__()\n",
    "        self.bert_model = BertModel.from_pretrained('bert-base-chinese', return_dict=True)\n",
    "        self.dropout = torch.nn.Dropout(0.3)\n",
    "        self.linear = torch.nn.Linear(768, 5)\n",
    "\n",
    "    def forward(self, input_ids, attn_mask, token_type_ids):\n",
    "        output = self.bert_model(\n",
    "            input_ids,\n",
    "            attention_mask=attn_mask,\n",
    "            token_type_ids=token_type_ids\n",
    "        )\n",
    "        output_dropout = self.dropout(output.pooler_output)\n",
    "        output = self.linear(output_dropout)\n",
    "        return output\n",
    "\n",
    "model = BERTClass()\n",
    "model.to(device)"
   ],
   "metadata": {
    "collapsed": false,
    "pycharm": {
     "name": "#%%\n"
    }
   }
  },
  {
   "cell_type": "code",
   "execution_count": 67,
   "outputs": [],
   "source": [
    "def loss_fn(outputs, targets):\n",
    "    return torch.nn.BCEWithLogitsLoss()(outputs, targets)\n",
    "\n",
    "optimizer = torch.optim.Adam(params =  model.parameters(), lr=LEARNING_RATE)"
   ],
   "metadata": {
    "collapsed": false,
    "pycharm": {
     "name": "#%%\n"
    }
   }
  },
  {
   "cell_type": "code",
   "execution_count": 68,
   "outputs": [],
   "source": [
    "val_targets=[]\n",
    "val_outputs=[]"
   ],
   "metadata": {
    "collapsed": false,
    "pycharm": {
     "name": "#%%\n"
    }
   }
  },
  {
   "cell_type": "code",
   "execution_count": 69,
   "outputs": [],
   "source": [
    "def train_model(n_epochs, training_loader, validation_loader, model,\n",
    "                optimizer, checkpoint_path, best_model_path):\n",
    "\n",
    "  # initialize tracker for minimum validation loss\n",
    "  valid_loss_min = np.Inf\n",
    "\n",
    "\n",
    "  for epoch in range(1, n_epochs+1):\n",
    "    train_loss = 0\n",
    "    valid_loss = 0\n",
    "\n",
    "    model.train()\n",
    "    print('############# Epoch {}: Training Start   #############'.format(epoch))\n",
    "    for batch_idx, data in enumerate(training_loader):\n",
    "        #print('yyy epoch', batch_idx)\n",
    "        ids = data['input_ids'].to(device, dtype = torch.long)\n",
    "        mask = data['attention_mask'].to(device, dtype = torch.long)\n",
    "        token_type_ids = data['token_type_ids'].to(device, dtype = torch.long)\n",
    "        targets = data['targets'].to(device, dtype = torch.float)\n",
    "\n",
    "        outputs = model(ids, mask, token_type_ids)\n",
    "\n",
    "        optimizer.zero_grad()\n",
    "        loss = loss_fn(outputs, targets)\n",
    "        #if batch_idx%5000==0:\n",
    "         #   print(f'Epoch: {epoch}, Training Loss:  {loss.item()}')\n",
    "\n",
    "        optimizer.zero_grad()\n",
    "        loss.backward()\n",
    "        optimizer.step()\n",
    "        #print('before loss data in training', loss.item(), train_loss)\n",
    "        train_loss = train_loss + ((1 / (batch_idx + 1)) * (loss.item() - train_loss))\n",
    "        #print('after loss data in training', loss.item(), train_loss)\n",
    "\n",
    "    print('############# Epoch {}: Training End     #############'.format(epoch))\n",
    "\n",
    "    print('############# Epoch {}: Validation Start   #############'.format(epoch))\n",
    "    ######################\n",
    "    # validate the model #\n",
    "    ######################\n",
    "\n",
    "    model.eval()\n",
    "\n",
    "    with torch.no_grad():\n",
    "      for batch_idx, data in enumerate(validation_loader, 0):\n",
    "            ids = data['input_ids'].to(device, dtype = torch.long)\n",
    "            mask = data['attention_mask'].to(device, dtype = torch.long)\n",
    "            token_type_ids = data['token_type_ids'].to(device, dtype = torch.long)\n",
    "            targets = data['targets'].to(device, dtype = torch.float)\n",
    "            outputs = model(ids, mask, token_type_ids)\n",
    "\n",
    "            loss = loss_fn(outputs, targets)\n",
    "            valid_loss = valid_loss + ((1 / (batch_idx + 1)) * (loss.item() - valid_loss))\n",
    "            val_targets.extend(targets.cpu().detach().numpy().tolist())\n",
    "            val_outputs.extend(torch.sigmoid(outputs).cpu().detach().numpy().tolist())\n",
    "\n",
    "      print('############# Epoch {}: Validation End     #############'.format(epoch))\n",
    "      # calculate average losses\n",
    "      #print('before cal avg train loss', train_loss)\n",
    "      train_loss = train_loss/len(training_loader)\n",
    "      valid_loss = valid_loss/len(validation_loader)\n",
    "      # print training/validation statistics\n",
    "      print('Epoch: {} \\tAvgerage Training Loss: {:.6f} \\tAverage Validation Loss: {:.6f}'.format(\n",
    "            epoch,\n",
    "            train_loss,\n",
    "            valid_loss\n",
    "            ))\n",
    "\n",
    "      # create checkpoint variable and add important data\n",
    "      checkpoint = {\n",
    "            'epoch': epoch + 1,\n",
    "            'valid_loss_min': valid_loss,\n",
    "            'state_dict': model.state_dict(),\n",
    "            'optimizer': optimizer.state_dict()\n",
    "      }\n",
    "\n",
    "        # save checkpoint\n",
    "      save_ckp(checkpoint, False, checkpoint_path, best_model_path)\n",
    "\n",
    "      ## TODO: save the model if validation loss has decreased\n",
    "      if valid_loss <= valid_loss_min:\n",
    "        print('Validation loss decreased ({:.6f} --> {:.6f}).  Saving model ...'.format(valid_loss_min,valid_loss))\n",
    "        # save checkpoint as best model\n",
    "        save_ckp(checkpoint, True, checkpoint_path, best_model_path)\n",
    "        valid_loss_min = valid_loss\n",
    "\n",
    "    print('############# Epoch {}  Done   #############\\n'.format(epoch))\n",
    "\n",
    "  return model"
   ],
   "metadata": {
    "collapsed": false,
    "pycharm": {
     "name": "#%%\n"
    }
   }
  },
  {
   "cell_type": "code",
   "execution_count": 70,
   "outputs": [],
   "source": [
    "ckpt_path = r\"C:\\Users\\knock\\OneDrive\\Desktop\\bert tuning\\curr_ckpt\"\n",
    "best_model_path = r\"C:\\Users\\knock\\OneDrive\\Desktop\\bert tuning\\best_model.pt\""
   ],
   "metadata": {
    "collapsed": false,
    "pycharm": {
     "name": "#%%\n"
    }
   }
  },
  {
   "cell_type": "code",
   "execution_count": 82,
   "outputs": [
    {
     "name": "stdout",
     "output_type": "stream",
     "text": [
      "############# Epoch 1: Training Start   #############\n",
      "############# Epoch 1: Training End     #############\n",
      "############# Epoch 1: Validation Start   #############\n",
      "############# Epoch 1: Validation End     #############\n",
      "Epoch: 1 \tAvgerage Training Loss: 0.000576 \tAverage Validation Loss: 0.002050\n",
      "Validation loss decreased (inf --> 0.002050).  Saving model ...\n",
      "############# Epoch 1  Done   #############\n",
      "\n",
      "############# Epoch 2: Training Start   #############\n",
      "############# Epoch 2: Training End     #############\n",
      "############# Epoch 2: Validation Start   #############\n",
      "############# Epoch 2: Validation End     #############\n",
      "Epoch: 2 \tAvgerage Training Loss: 0.000525 \tAverage Validation Loss: 0.001961\n",
      "Validation loss decreased (0.002050 --> 0.001961).  Saving model ...\n",
      "############# Epoch 2  Done   #############\n",
      "\n"
     ]
    }
   ],
   "source": [
    "trained_model = train_model(EPOCHS, train_data_loader, val_data_loader, model, optimizer, ckpt_path, best_model_path)"
   ],
   "metadata": {
    "collapsed": false,
    "pycharm": {
     "name": "#%%\n"
    }
   }
  },
  {
   "cell_type": "code",
   "execution_count": 75,
   "outputs": [],
   "source": [
    "# test_df = test_df.reset_index()"
   ],
   "metadata": {
    "collapsed": false,
    "pycharm": {
     "name": "#%%\n"
    }
   }
  },
  {
   "cell_type": "code",
   "execution_count": 77,
   "outputs": [
    {
     "data": {
      "text/plain": "                                              sentence  良好  一般  较差  优秀  很差\n0    论文 选题 有 明确 的 国防 应用 背景 ， 采用 数值 模拟 方法 进行 研究 亦 是 ...   0   1   0   0   0\n1    论文 针对 传统 会议 公告 中 存在 的 问题 ， 结合实际 ， 依据 软件工程 思想 ，...   1   0   0   0   0\n2    微弧 氧化 可以 有效 提高 铝合金 表面 耐蚀 耐磨性能 ， 以往 的 研究 多 集中 在...   1   0   0   0   0\n3                                             论文 对 OPC   1   0   0   0   0\n4    论文 针对 涡扇 发动机 低压 涡轮 部件 装配 技术 展开 研究 ， 对 低压 涡轮 部件...   1   0   0   0   0\n..                                                 ...  ..  ..  ..  ..  ..\n174  多 自主 水下 航行 器 协同 作业 日渐 成为 热点 研究 领域 ， 本 论文 针对 其中...   1   0   0   0   0\n175  本文 针对 农村 公共 产品 供给 失衡 问题 ， 从 机制 构建 和 创新 角度 入手 ，...   0   1   0   0   0\n176  论文 选题 迎合 当前 大 数据分析 的 主流 趋势 。 论文 工作 工作量 饱和 ， 系统...   1   0   0   0   0\n177  本 论文 以 红外 / 雷达 兼容 隐身 材料 为 研究 背景 ， 采用 分层 涂覆 方法 ...   1   0   0   0   0\n178  选择 某型 压气机 叶栅为 研究 对象 ， 针对 上游 尾迹 对 压气机 叶表 附面层 干涉...   1   0   0   0   0\n\n[179 rows x 6 columns]",
      "text/html": "<div>\n<style scoped>\n    .dataframe tbody tr th:only-of-type {\n        vertical-align: middle;\n    }\n\n    .dataframe tbody tr th {\n        vertical-align: top;\n    }\n\n    .dataframe thead th {\n        text-align: right;\n    }\n</style>\n<table border=\"1\" class=\"dataframe\">\n  <thead>\n    <tr style=\"text-align: right;\">\n      <th></th>\n      <th>sentence</th>\n      <th>良好</th>\n      <th>一般</th>\n      <th>较差</th>\n      <th>优秀</th>\n      <th>很差</th>\n    </tr>\n  </thead>\n  <tbody>\n    <tr>\n      <th>0</th>\n      <td>论文 选题 有 明确 的 国防 应用 背景 ， 采用 数值 模拟 方法 进行 研究 亦 是 ...</td>\n      <td>0</td>\n      <td>1</td>\n      <td>0</td>\n      <td>0</td>\n      <td>0</td>\n    </tr>\n    <tr>\n      <th>1</th>\n      <td>论文 针对 传统 会议 公告 中 存在 的 问题 ， 结合实际 ， 依据 软件工程 思想 ，...</td>\n      <td>1</td>\n      <td>0</td>\n      <td>0</td>\n      <td>0</td>\n      <td>0</td>\n    </tr>\n    <tr>\n      <th>2</th>\n      <td>微弧 氧化 可以 有效 提高 铝合金 表面 耐蚀 耐磨性能 ， 以往 的 研究 多 集中 在...</td>\n      <td>1</td>\n      <td>0</td>\n      <td>0</td>\n      <td>0</td>\n      <td>0</td>\n    </tr>\n    <tr>\n      <th>3</th>\n      <td>论文 对 OPC</td>\n      <td>1</td>\n      <td>0</td>\n      <td>0</td>\n      <td>0</td>\n      <td>0</td>\n    </tr>\n    <tr>\n      <th>4</th>\n      <td>论文 针对 涡扇 发动机 低压 涡轮 部件 装配 技术 展开 研究 ， 对 低压 涡轮 部件...</td>\n      <td>1</td>\n      <td>0</td>\n      <td>0</td>\n      <td>0</td>\n      <td>0</td>\n    </tr>\n    <tr>\n      <th>...</th>\n      <td>...</td>\n      <td>...</td>\n      <td>...</td>\n      <td>...</td>\n      <td>...</td>\n      <td>...</td>\n    </tr>\n    <tr>\n      <th>174</th>\n      <td>多 自主 水下 航行 器 协同 作业 日渐 成为 热点 研究 领域 ， 本 论文 针对 其中...</td>\n      <td>1</td>\n      <td>0</td>\n      <td>0</td>\n      <td>0</td>\n      <td>0</td>\n    </tr>\n    <tr>\n      <th>175</th>\n      <td>本文 针对 农村 公共 产品 供给 失衡 问题 ， 从 机制 构建 和 创新 角度 入手 ，...</td>\n      <td>0</td>\n      <td>1</td>\n      <td>0</td>\n      <td>0</td>\n      <td>0</td>\n    </tr>\n    <tr>\n      <th>176</th>\n      <td>论文 选题 迎合 当前 大 数据分析 的 主流 趋势 。 论文 工作 工作量 饱和 ， 系统...</td>\n      <td>1</td>\n      <td>0</td>\n      <td>0</td>\n      <td>0</td>\n      <td>0</td>\n    </tr>\n    <tr>\n      <th>177</th>\n      <td>本 论文 以 红外 / 雷达 兼容 隐身 材料 为 研究 背景 ， 采用 分层 涂覆 方法 ...</td>\n      <td>1</td>\n      <td>0</td>\n      <td>0</td>\n      <td>0</td>\n      <td>0</td>\n    </tr>\n    <tr>\n      <th>178</th>\n      <td>选择 某型 压气机 叶栅为 研究 对象 ， 针对 上游 尾迹 对 压气机 叶表 附面层 干涉...</td>\n      <td>1</td>\n      <td>0</td>\n      <td>0</td>\n      <td>0</td>\n      <td>0</td>\n    </tr>\n  </tbody>\n</table>\n<p>179 rows × 6 columns</p>\n</div>"
     },
     "execution_count": 77,
     "metadata": {},
     "output_type": "execute_result"
    }
   ],
   "source": [
    "# test_df1 = test_df.drop(['level_0','index'],axis=1)\n",
    "# test_df1"
   ],
   "metadata": {
    "collapsed": false,
    "pycharm": {
     "name": "#%%\n"
    }
   }
  },
  {
   "cell_type": "code",
   "execution_count": 78,
   "outputs": [],
   "source": [
    "# test_df = test_df1"
   ],
   "metadata": {
    "collapsed": false,
    "pycharm": {
     "name": "#%%\n"
    }
   }
  },
  {
   "cell_type": "code",
   "execution_count": 97,
   "outputs": [
    {
     "data": {
      "text/plain": "                                              sentence  良好  一般  较差  优秀  很差\n0    本文 选题 于 工程 实践 中 发动机 常见 的 起动 问题 ， 特别 是 难以 定量 评估...   0   0   0   1   0\n1    双组元 电动 气 阀门 在 某 火箭 发动机 控制 中 起到 至关重要 的 作用 ， 欧美国...   1   0   0   0   0\n2    该 同学 的 论文 选题 有 一定 的 现实 针对性 ， 论文 观点 比较 明确 ， 资料 ...   0   1   0   0   0\n3    近些年来 随着 电子科技 和 设备 的 发展 ， 产生 了 电磁波 干扰 和 辐射 等 污染...   1   0   0   0   0\n4    论文 首先 分析 了 APC 产生 原因 ， 建立 了 非线性 人机 闭环 系统 模型 ， ...   1   0   0   0   0\n..                                                 ...  ..  ..  ..  ..  ..\n174  论文 针对 火箭 发动机 用 GH4202 合金 整流 栅 模锻 成形 工艺 研究 工作 ，...   0   0   0   1   0\n175  论文 以 直升机 传动系统 方案设计 为 研究 对象 ， 运用 图论 的 方法 开展 传动 ...   1   0   0   0   0\n176  论文 探讨 了 将 微 气动力 作为 低 轨道 微小 卫星 集群 飞行 控制 的 主动 控制...   1   0   0   0   0\n177  论文 选题 有 理论 和 实践 意义 ， 作者 对 选题 及其 国内外 相关 研究 比较 较...   0   1   0   0   0\n178  论文 选择 考虑 排放 污染 的 民用 客机 设计 优化 作为 主要 研究 内容 ， 将 环...   1   0   0   0   0\n\n[179 rows x 6 columns]",
      "text/html": "<div>\n<style scoped>\n    .dataframe tbody tr th:only-of-type {\n        vertical-align: middle;\n    }\n\n    .dataframe tbody tr th {\n        vertical-align: top;\n    }\n\n    .dataframe thead th {\n        text-align: right;\n    }\n</style>\n<table border=\"1\" class=\"dataframe\">\n  <thead>\n    <tr style=\"text-align: right;\">\n      <th></th>\n      <th>sentence</th>\n      <th>良好</th>\n      <th>一般</th>\n      <th>较差</th>\n      <th>优秀</th>\n      <th>很差</th>\n    </tr>\n  </thead>\n  <tbody>\n    <tr>\n      <th>0</th>\n      <td>本文 选题 于 工程 实践 中 发动机 常见 的 起动 问题 ， 特别 是 难以 定量 评估...</td>\n      <td>0</td>\n      <td>0</td>\n      <td>0</td>\n      <td>1</td>\n      <td>0</td>\n    </tr>\n    <tr>\n      <th>1</th>\n      <td>双组元 电动 气 阀门 在 某 火箭 发动机 控制 中 起到 至关重要 的 作用 ， 欧美国...</td>\n      <td>1</td>\n      <td>0</td>\n      <td>0</td>\n      <td>0</td>\n      <td>0</td>\n    </tr>\n    <tr>\n      <th>2</th>\n      <td>该 同学 的 论文 选题 有 一定 的 现实 针对性 ， 论文 观点 比较 明确 ， 资料 ...</td>\n      <td>0</td>\n      <td>1</td>\n      <td>0</td>\n      <td>0</td>\n      <td>0</td>\n    </tr>\n    <tr>\n      <th>3</th>\n      <td>近些年来 随着 电子科技 和 设备 的 发展 ， 产生 了 电磁波 干扰 和 辐射 等 污染...</td>\n      <td>1</td>\n      <td>0</td>\n      <td>0</td>\n      <td>0</td>\n      <td>0</td>\n    </tr>\n    <tr>\n      <th>4</th>\n      <td>论文 首先 分析 了 APC 产生 原因 ， 建立 了 非线性 人机 闭环 系统 模型 ， ...</td>\n      <td>1</td>\n      <td>0</td>\n      <td>0</td>\n      <td>0</td>\n      <td>0</td>\n    </tr>\n    <tr>\n      <th>...</th>\n      <td>...</td>\n      <td>...</td>\n      <td>...</td>\n      <td>...</td>\n      <td>...</td>\n      <td>...</td>\n    </tr>\n    <tr>\n      <th>174</th>\n      <td>论文 针对 火箭 发动机 用 GH4202 合金 整流 栅 模锻 成形 工艺 研究 工作 ，...</td>\n      <td>0</td>\n      <td>0</td>\n      <td>0</td>\n      <td>1</td>\n      <td>0</td>\n    </tr>\n    <tr>\n      <th>175</th>\n      <td>论文 以 直升机 传动系统 方案设计 为 研究 对象 ， 运用 图论 的 方法 开展 传动 ...</td>\n      <td>1</td>\n      <td>0</td>\n      <td>0</td>\n      <td>0</td>\n      <td>0</td>\n    </tr>\n    <tr>\n      <th>176</th>\n      <td>论文 探讨 了 将 微 气动力 作为 低 轨道 微小 卫星 集群 飞行 控制 的 主动 控制...</td>\n      <td>1</td>\n      <td>0</td>\n      <td>0</td>\n      <td>0</td>\n      <td>0</td>\n    </tr>\n    <tr>\n      <th>177</th>\n      <td>论文 选题 有 理论 和 实践 意义 ， 作者 对 选题 及其 国内外 相关 研究 比较 较...</td>\n      <td>0</td>\n      <td>1</td>\n      <td>0</td>\n      <td>0</td>\n      <td>0</td>\n    </tr>\n    <tr>\n      <th>178</th>\n      <td>论文 选择 考虑 排放 污染 的 民用 客机 设计 优化 作为 主要 研究 内容 ， 将 环...</td>\n      <td>1</td>\n      <td>0</td>\n      <td>0</td>\n      <td>0</td>\n      <td>0</td>\n    </tr>\n  </tbody>\n</table>\n<p>179 rows × 6 columns</p>\n</div>"
     },
     "execution_count": 97,
     "metadata": {},
     "output_type": "execute_result"
    }
   ],
   "source": [
    "val_df"
   ],
   "metadata": {
    "collapsed": false,
    "pycharm": {
     "name": "#%%\n"
    }
   }
  },
  {
   "cell_type": "code",
   "execution_count": 98,
   "outputs": [
    {
     "name": "stdout",
     "output_type": "stream",
     "text": [
      "良好\n",
      "良好\n",
      "一般\n",
      "良好\n",
      "良好\n",
      "良好\n",
      "一般\n",
      "良好\n",
      "良好\n",
      "良好\n",
      "良好\n",
      "较差\n",
      "良好\n",
      "良好\n",
      "良好\n",
      "良好\n",
      "良好\n",
      "良好\n",
      "良好\n",
      "良好\n",
      "较差\n",
      "良好\n",
      "良好\n",
      "良好\n",
      "良好\n",
      "良好\n",
      "一般\n",
      "良好\n",
      "良好\n",
      "良好\n",
      "良好\n",
      "良好\n",
      "良好\n",
      "良好\n",
      "一般\n",
      "良好\n",
      "良好\n",
      "良好\n",
      "良好\n",
      "良好\n",
      "良好\n",
      "良好\n",
      "良好\n",
      "一般\n",
      "较差\n",
      "良好\n",
      "一般\n",
      "良好\n",
      "良好\n",
      "良好\n",
      "良好\n",
      "较差\n",
      "良好\n",
      "良好\n",
      "良好\n",
      "良好\n",
      "良好\n",
      "良好\n",
      "良好\n",
      "良好\n",
      "良好\n",
      "一般\n",
      "较差\n",
      "良好\n",
      "一般\n",
      "良好\n",
      "良好\n",
      "良好\n",
      "一般\n",
      "良好\n",
      "良好\n",
      "良好\n",
      "较差\n",
      "良好\n",
      "良好\n",
      "良好\n",
      "良好\n",
      "较差\n",
      "良好\n",
      "良好\n",
      "良好\n",
      "良好\n",
      "良好\n",
      "良好\n",
      "较差\n",
      "一般\n",
      "一般\n",
      "一般\n",
      "良好\n",
      "良好\n",
      "良好\n",
      "良好\n",
      "良好\n",
      "良好\n",
      "良好\n",
      "良好\n",
      "良好\n",
      "良好\n",
      "良好\n",
      "良好\n",
      "一般\n",
      "良好\n",
      "良好\n",
      "一般\n",
      "一般\n",
      "良好\n",
      "一般\n",
      "良好\n",
      "良好\n",
      "良好\n",
      "较差\n",
      "良好\n",
      "良好\n",
      "良好\n",
      "良好\n",
      "良好\n",
      "良好\n",
      "良好\n",
      "良好\n",
      "良好\n",
      "良好\n",
      "良好\n",
      "良好\n",
      "良好\n",
      "良好\n",
      "一般\n",
      "良好\n",
      "良好\n",
      "良好\n",
      "良好\n",
      "良好\n",
      "良好\n",
      "良好\n",
      "良好\n",
      "一般\n",
      "良好\n",
      "良好\n",
      "良好\n",
      "良好\n",
      "良好\n",
      "良好\n",
      "良好\n",
      "良好\n",
      "良好\n",
      "良好\n",
      "良好\n",
      "一般\n",
      "较差\n",
      "良好\n",
      "一般\n",
      "良好\n",
      "良好\n",
      "良好\n",
      "良好\n",
      "良好\n",
      "良好\n",
      "良好\n",
      "较差\n",
      "良好\n",
      "良好\n",
      "良好\n",
      "良好\n",
      "一般\n",
      "良好\n",
      "良好\n",
      "良好\n",
      "一般\n",
      "良好\n",
      "良好\n",
      "良好\n",
      "良好\n",
      "良好\n",
      "一般\n",
      "良好\n",
      "良好\n",
      "良好\n",
      "良好\n",
      "一般\n",
      "良好\n"
     ]
    }
   ],
   "source": [
    "# testing\n",
    "predicted_val = {}\n",
    "for i in range(len(test_df)):\n",
    "    example = val_df['sentence'][i]\n",
    "    encodings = tokenizer.encode_plus(\n",
    "        example,\n",
    "        None,\n",
    "        add_special_tokens=True,\n",
    "        max_length=MAX_LEN,\n",
    "        padding='max_length',\n",
    "        return_token_type_ids=True,\n",
    "        truncation=True,\n",
    "        return_attention_mask=True,\n",
    "        return_tensors='pt'\n",
    "    )\n",
    "    model.eval()\n",
    "    with torch.no_grad():\n",
    "        input_ids = encodings['input_ids'].to(device, dtype=torch.long)\n",
    "        attention_mask = encodings['attention_mask'].to(device, dtype=torch.long)\n",
    "        token_type_ids = encodings['token_type_ids'].to(device, dtype=torch.long)\n",
    "        output = model(input_ids, attention_mask, token_type_ids)\n",
    "        final_output = torch.sigmoid(output).cpu().detach().numpy().tolist()\n",
    "        print(train_df.columns[1:].to_list()[int(np.argmax(final_output, axis=1))])\n",
    "        predicted_val[i]=train_df.columns[1:].to_list()[int(np.argmax(final_output, axis=1))]"
   ],
   "metadata": {
    "collapsed": false,
    "pycharm": {
     "name": "#%%\n"
    }
   }
  },
  {
   "cell_type": "code",
   "execution_count": 99,
   "outputs": [
    {
     "data": {
      "text/plain": "{'一般', '良好', '较差'}"
     },
     "execution_count": 99,
     "metadata": {},
     "output_type": "execute_result"
    }
   ],
   "source": [
    "set(list(predicted_val.values()))"
   ],
   "metadata": {
    "collapsed": false,
    "pycharm": {
     "name": "#%%\n"
    }
   }
  },
  {
   "cell_type": "code",
   "execution_count": null,
   "outputs": [],
   "source": [],
   "metadata": {
    "collapsed": false,
    "pycharm": {
     "name": "#%%\n"
    }
   }
  }
 ],
 "metadata": {
  "kernelspec": {
   "display_name": "Python 3",
   "language": "python",
   "name": "python3"
  },
  "language_info": {
   "codemirror_mode": {
    "name": "ipython",
    "version": 2
   },
   "file_extension": ".py",
   "mimetype": "text/x-python",
   "name": "python",
   "nbconvert_exporter": "python",
   "pygments_lexer": "ipython2",
   "version": "2.7.6"
  }
 },
 "nbformat": 4,
 "nbformat_minor": 0
}